{
 "cells": [
  {
   "cell_type": "markdown",
   "metadata": {},
   "source": [
    "# Welcome to network viewer\n",
    "In this notebook you can visualize test data from feedforward backprop networks created in pdpyflow. You only need to import the visualization function from `FFBP.vis_utils` module. Visualization relies on `matplotlib` and its interactivity relies on `matplotlib`'s notebook backend. This backend can be switched on by running a Jupyter magic function `%matplotlib notebook`"
   ]
  },
  {
   "cell_type": "code",
   "execution_count": null,
   "metadata": {
    "collapsed": true
   },
   "outputs": [],
   "source": [
    "%matplotlib notebook\n",
    "from FFBP.vis_utils import view_layers"
   ]
  },
  {
   "cell_type": "markdown",
   "metadata": {},
   "source": [
    "The visualization function `view_layers()` takes one required argument -- a string that contains path to a log directory. A log directory must contain at least one pickled runlog file from which the data is extracted for viewing. Note that you can use either an absolute or a relative (i.e. relative to the notebook) path to the log directory. \n",
    "\n",
    "You can also specify the mode of vieiwing as a keyword argument. There are three options, encoded as `0`,`1`, and `2` respectively. In mode `0` only forward propagation information is displayed (layer input, layer weights and biases, net input and output / activation) for each individual pattern in the test set. Mode `1` adds backprop information (partial derivatives of error with repspect to layer input, layer weights and biases, net input and output / activation). Finally, mode `2` is the same as mode `1`, but also displays the sum of all partial derivatives with respect to each weight (and bias) for all patterns in the test set. \n",
    "\n",
    "Finally, you can specify the number of pixels per cell or `ppc` as a keyword argument. This will adjust the size of grid cells. You should only need this parameter if the visualization is poorly spaced (e.g. overlapping labels or figures) or otherwise defective. By default this parameter is set to 20."
   ]
  },
  {
   "cell_type": "code",
   "execution_count": null,
   "metadata": {
    "collapsed": true,
    "scrolled": false
   },
   "outputs": [],
   "source": [
    "et_path = 'test/et_logdirs/ffbp_logdir_000/'\n",
    "xor_path = '/Users/alexten/Projects/pdpyflow/test/xor_logdirs/ffbp_logdir_000/'\n",
    "view_layers(et_path, mode=0)"
   ]
  }
 ],
 "metadata": {
  "kernelspec": {
   "display_name": "Python 3",
   "language": "python",
   "name": "python3"
  },
  "language_info": {
   "codemirror_mode": {
    "name": "ipython",
    "version": 3
   },
   "file_extension": ".py",
   "mimetype": "text/x-python",
   "name": "python",
   "nbconvert_exporter": "python",
   "pygments_lexer": "ipython3",
   "version": "3.6.1"
  }
 },
 "nbformat": 4,
 "nbformat_minor": 2
}
