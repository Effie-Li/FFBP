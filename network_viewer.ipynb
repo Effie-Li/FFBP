{
 "cells": [
  {
   "cell_type": "markdown",
   "metadata": {},
   "source": [
    "# Welcome to network viewer\n",
    "In this notebook you can visualize test data from feedforward backprop networks created in [pdpyflow](https://github.com/alex-ten/pdpyflow). You only need to import the visualization function from [FFBP.vis_utils](https://github.com/alex-ten/pdpyflow/blob/master/FFBP/vis_utils.py) module. Visualization relies on matplotlib and its interactivity relies on [matplotlib](https://matplotlib.org/)'s notebook [backend](https://matplotlib.org/faq/usage_faq.html#what-is-a-backend). This backend can be switched on by running a Jupyter [magic function](http://ipython.readthedocs.io/en/stable/interactive/magics.html) `%matplotlib notebook`"
   ]
  },
  {
   "cell_type": "code",
   "execution_count": null,
   "metadata": {},
   "outputs": [],
   "source": [
    "%matplotlib notebook\n",
    "from FFBP.vis_utils import view_layers, view_progress"
   ]
  },
  {
   "cell_type": "markdown",
   "metadata": {},
   "source": [
    "## Inspecting layers with `view_layers()`\n",
    "The visualization function `view_layers()` takes the following arguments: \n",
    "\n",
    "- **`path`** : a string that contains  to a log directory. A log directory must contain at least one pickled runlog file from which the data is extracted for viewing. Note that you can use either an absolute or a relative (i.e. relative to the notebook) path to the log directory. \n",
    "- **`mode`** : (*`default`*`=0`) the mode of vieiwing for which there are three options, encoded as `0`, `1`, and `2` respectively. In mode `0` only forward propagation information is displayed (layer input, layer weights and biases, net input and layer output) for each individual pattern in the test set. Mode `1` adds backprop information (partial derivatives of error with repspect to layer input, layer weights and biases, net input and output / activation). Finally, mode `2` is the same as mode `1`, but also displays the sum of all partial derivatives with respect to each weight (and bias) for all patterns in the test set. \n",
    "- **`ppc`** : (*`default`*`=20`) the number of pixels per cell. This will adjust the size of grid cells. You should only need this parameter if the visualization is poorly spaced (e.g. overlapping labels or figures) or otherwise defective."
   ]
  },
  {
   "cell_type": "code",
   "execution_count": null,
   "metadata": {
    "collapsed": true,
    "scrolled": false
   },
   "outputs": [],
   "source": [
    "xor = '_test_files/xor'\n",
    "eight_things = '_test_files/eight_things'\n",
    "\n",
    "# view_layers(eight_things, mode=1)"
   ]
  },
  {
   "cell_type": "markdown",
   "metadata": {},
   "source": [
    "## Plotting training progress with `view_progress()`\n",
    "You can also plot one or more learning curves. The y-axis shows the level of loss as defined for training and the x-axis corresponds to time (epoch number). If models in all runs were trained for the same amount of time, an additional average curve will be plotted appearing as a bold dashed line.\n",
    "\n",
    "The visualization function `view_progress()` takes a single `path` argument that contains a path to the directory where one or more runlogs are stored. "
   ]
  },
  {
   "cell_type": "code",
   "execution_count": null,
   "metadata": {},
   "outputs": [],
   "source": [
    "view_progress('/Users/alexten/Projects/pdpyflow/xor/logdirs/logdir_013', 5)"
   ]
  },
  {
   "cell_type": "code",
   "execution_count": null,
   "metadata": {},
   "outputs": [],
   "source": [
    "view_progress('/Users/alexten/Projects/pdpyflow/tutorials/building_models/logdirs/logdir_000')"
   ]
  },
  {
   "cell_type": "code",
   "execution_count": null,
   "metadata": {
    "collapsed": true
   },
   "outputs": [],
   "source": []
  }
 ],
 "metadata": {
  "kernelspec": {
   "display_name": "Python 3",
   "language": "python",
   "name": "python3"
  },
  "language_info": {
   "codemirror_mode": {
    "name": "ipython",
    "version": 3
   },
   "file_extension": ".py",
   "mimetype": "text/x-python",
   "name": "python",
   "nbconvert_exporter": "python",
   "pygments_lexer": "ipython3",
   "version": "3.6.1"
  }
 },
 "nbformat": 4,
 "nbformat_minor": 2
}
