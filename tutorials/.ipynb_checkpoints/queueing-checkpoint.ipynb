{
 "cells": [
  {
   "cell_type": "code",
   "execution_count": 1,
   "metadata": {
    "collapsed": true
   },
   "outputs": [],
   "source": [
    "import tensorflow as tf"
   ]
  },
  {
   "cell_type": "markdown",
   "metadata": {},
   "source": [
    "Like everything in TensorFlow, a <b>queue</b> is a node in a TensorFlow graph. It's a stateful node, like a variable: other nodes can modify its content. In particular, nodes can enqueue new items in to the queue, or dequeue existing items from the queue.\n",
    "\n",
    "Queues, such as <code>tf.FIFOQueue</code> and <code>tf.RandomShuffleQueue</code>, are important TensorFlow objects for computing tensors asynchronously in a graph.\n",
    "\n",
    "For example, a typical input architecture is to use a <code>RandomShuffleQueue</code> to prepare inputs for training a model:\n",
    "\n",
    "<ul>\n",
    "    <li>Multiple threads prepare training examples and push them in the queue.</li>\n",
    "    <li>A training thread executes a training op that dequeues mini-batches from the queue</li>\n",
    "</ul>\n",
    "\n",
    "### Example 1\n",
    "Below, we first create a FIFO queue object, setting its size and format. <code>q</code> is a graph node, but conceptually it is a variable that is subject to changes by other nodes.\n",
    "\n",
    "One such node is the next one we create. <code>q.enqueue_many</code> is a node that enqueues its input arguments into the  <code>q</code> queue. Next we create another node that is going to take one value off the queue (in a FIFO order). Variable <code>y</code> will then be assigned whatever value was dequeued plus 1. Finally we create another node that will enqueue this <code>y</code> value back into the queue.\n"
   ]
  },
  {
   "cell_type": "code",
   "execution_count": 17,
   "metadata": {
    "collapsed": true
   },
   "outputs": [],
   "source": [
    "q = tf.FIFOQueue(3, 'float')\n",
    "init = q.enqueue_many(([0.,0.,0.],))\n",
    "x = q.dequeue()\n",
    "y = x + 1\n",
    "q_inc = q.enqueue([y])"
   ]
  },
  {
   "cell_type": "code",
   "execution_count": 18,
   "metadata": {},
   "outputs": [
    {
     "name": "stdout",
     "output_type": "stream",
     "text": [
      "iter 0: y = 1.0 \n",
      "iter 1: y = 2.0 \n",
      "iter 2: y = 3.0 \n"
     ]
    }
   ],
   "source": [
    "sess = tf.Session()\n",
    "sess.run(tf.global_variables_initializer())\n",
    "sess.run(tf.local_variables_initializer())\n",
    "sess.run(init)\n",
    "for i in range(3):\n",
    "    sess.run(q_inc)\n",
    "    print('iter {}: y = {} '.format(i, sess.run(y)))"
   ]
  },
  {
   "cell_type": "code",
   "execution_count": 19,
   "metadata": {
    "collapsed": true
   },
   "outputs": [],
   "source": [
    "sess.close()"
   ]
  }
 ],
 "metadata": {
  "kernelspec": {
   "display_name": "Python 3",
   "language": "python",
   "name": "python3"
  },
  "language_info": {
   "codemirror_mode": {
    "name": "ipython",
    "version": 3
   },
   "file_extension": ".py",
   "mimetype": "text/x-python",
   "name": "python",
   "nbconvert_exporter": "python",
   "pygments_lexer": "ipython3",
   "version": "3.5.2"
  }
 },
 "nbformat": 4,
 "nbformat_minor": 2
}
