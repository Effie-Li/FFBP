{
 "cells": [
  {
   "cell_type": "code",
   "execution_count": 1,
   "metadata": {
    "collapsed": true
   },
   "outputs": [],
   "source": [
    "import pickle\n",
    "import numpy as np\n",
    "import matplotlib.pyplot as plt\n",
    "from mpl_toolkits.axes_grid1 import AxesGrid, ImageGrid, Divider\n",
    "from mpl_toolkits.axes_grid1.axes_size import Scaled\n",
    "\n",
    "# %matplotlib notebook"
   ]
  },
  {
   "cell_type": "code",
   "execution_count": 2,
   "metadata": {
    "collapsed": true
   },
   "outputs": [],
   "source": [
    "path = '../xor_/logdirs/ffbp_logdir_000/snap.pkl'\n",
    "with open(path, 'rb') as file:\n",
    "    snap = pickle.load(file)"
   ]
  },
  {
   "cell_type": "markdown",
   "metadata": {},
   "source": [
    "# Map out figure frame and populate with axes"
   ]
  },
  {
   "cell_type": "code",
   "execution_count": 3,
   "metadata": {},
   "outputs": [],
   "source": [
    "# Params\n",
    "# ========================================================================\n",
    "target = False\n",
    "layer = 'hidden_layer'\n",
    "layer_size = 2\n",
    "layer_inp_size = 2\n",
    "tind = 0\n",
    "pind = 0\n",
    "# ========================================================================\n",
    "\n",
    "# make figure\n",
    "figure = plt.figure(1, (5.5, 4.))\n",
    "\n",
    "# make frame\n",
    "frame = (0.1, 0.1, 0.8, 0.8)\n",
    "\n",
    "# define padding size\n",
    "_ = Scaled(.8) \n",
    "\n",
    "# grid column widths (left to right): weights, biases, net_input, output, gweight, gbiases, gnet_input, goutput\n",
    "w,  b,  n,  o  = Scaled(layer_size), Scaled(1), Scaled(1), Scaled(1)\n",
    "gw, gb, gn, go = Scaled(layer_size), Scaled(1), Scaled(1), Scaled(1)\n",
    "left_panel = [w,_,b,_,n,_,o,_]\n",
    "right_panel = [_,gw,_,gb,_,gn,_,go]\n",
    "col_widths = left_panel + right_panel\n",
    "\n",
    "# row sizes (top to bottom): weights, input\n",
    "w, i = Scaled(layer_inp_size), Scaled(1)\n",
    "row_heights = [w,_,i]\n",
    "\n",
    "# make divider\n",
    "divider = Divider(fig=figure, pos=frame, horizontal=row_heights, vertical=col_widths, aspect=True)\n",
    "\n",
    "# provide coords for axes\n",
    "coords = {\n",
    "    'weights'    : (0, 0),\n",
    "    'biases'     : (0, 2),\n",
    "    'net_input'  : (0, 4),\n",
    "    'output'     : (0, 6),\n",
    "    'gweights'   : (0, 9),\n",
    "    'gbiases'    : (0, 11),\n",
    "    'gnet_input' : (0, 13),\n",
    "    'goutput'    : (0, 15),\n",
    "    'input_': (1, 0)\n",
    "}\n",
    "\n",
    "# create axes and locate appropriately\n",
    "axes_dict = {}\n",
    "for k, ax_coords in coords.items():\n",
    "    axes_dict[k] = figure.add_axes(frame)#, xticks=[], yticks=[])\n",
    "    axes_dict[k].set_axes_locator(divider.new_locator(nx=ax_coords[0], ny=ax_coords[1]))\n",
    "\n",
    "# plt.draw()\n",
    "# plt.show()"
   ]
  },
  {
   "cell_type": "markdown",
   "metadata": {},
   "source": [
    "# Fill axes with data"
   ]
  },
  {
   "cell_type": "code",
   "execution_count": 4,
   "metadata": {},
   "outputs": [
    {
     "name": "stdout",
     "output_type": "stream",
     "text": [
      "hidden_layer: weights\n",
      "(2, 2)\n",
      "(2, 2)\n",
      "hidden_layer: biases\n",
      "(2,)\n",
      "(2, 1)\n",
      "hidden_layer: net_input\n",
      "(4, 1, 2)\n",
      "(2, 1)\n",
      "hidden_layer: output\n",
      "(4, 1, 2)\n",
      "(2, 1)\n",
      "hidden_layer: gweights\n",
      "(4, 2, 2)\n",
      "(2, 2)\n",
      "hidden_layer: gbiases\n",
      "(4, 2)\n",
      "(2, 1)\n",
      "hidden_layer: gnet_input\n",
      "(4, 1, 2)\n",
      "(2, 1)\n",
      "hidden_layer: goutput\n",
      "(4, 1, 2)\n",
      "(2, 1)\n",
      "hidden_layer: input_\n",
      "(4, 1, 2)\n",
      "(1, 2)\n"
     ]
    }
   ],
   "source": [
    "# Params\n",
    "# ========================================================================\n",
    "colormap = 'RdBu'\n",
    "vrange = (-1,1)\n",
    "tind = 0\n",
    "pind = 0\n",
    "layer_name = layer\n",
    "axes_dict = axes_dict\n",
    "snap = snap\n",
    "# ========================================================================\n",
    "\n",
    "for k, ax in axes_dict.items():\n",
    "    print(layer_name+':',k)\n",
    "    data = snap[tind][layer_name][k]\n",
    "    print(data.shape)\n",
    "    if 'biases' in k:\n",
    "        data = np.expand_dims(data, axis=1)\n",
    "    if data.ndim > 2:\n",
    "        data = data[pind]\n",
    "        if k != 'input_':\n",
    "            data = data.T\n",
    "    print(data.shape)\n",
    "    ax.imshow(data, cmap = colormap, vmin=vrange[0], vmax=vrange[1])\n",
    "\n",
    "# plt.draw()\n",
    "# plt.show()\n"
   ]
  },
  {
   "cell_type": "code",
   "execution_count": 5,
   "metadata": {},
   "outputs": [
    {
     "data": {
      "image/png": "[encoded data removed]",
      "text/plain": [
       "<matplotlib.figure.Figure at 0x112409828>"
      ]
     },
     "metadata": {},
     "output_type": "display_data"
    }
   ],
   "source": [
    "plt.show()"
   ]
  },
  {
   "cell_type": "code",
   "execution_count": 6,
   "metadata": {
    "collapsed": true
   },
   "outputs": [],
   "source": [
    "# # High-level creation of axes_grid\n",
    "# axes_grid = AxesGrid(\n",
    "#     fig = fig, \n",
    "#     rect = frame,\n",
    "#     nrows_ncols = (2, 8 + int(target)),\n",
    "#     axes_pad = 0.1,\n",
    "#     share_all=True,\n",
    "#     label_mode = \"L\",\n",
    "#     aspect = False,\n",
    "#     direction = 'row'\n",
    "# )\n",
    "\n",
    "# ld=snap[tind][layer] # <-- layer dict\n",
    "# data = [\n",
    "#     ld['weights'],\n",
    "#     ld['biases'].reshape([-1,1]),\n",
    "#     ld['net_input'][pind].T,\n",
    "#     ld['output'][pind].T,\n",
    "#     ld['gweights'][pind],\n",
    "#     ld['gbiases'][pind].reshape([-1,1]),\n",
    "#     ld['gnet_input'][pind].T,\n",
    "#     ld['goutput'][pind].T,\n",
    "#     np.array([[0,0]])\n",
    "# ]\n",
    "\n",
    "# for i, (ax, ar) in enumerate(zip(axes_grid, data)):\n",
    "#     print(ar.shape)\n",
    "#     ax.imshow(ar, interpolation='nearest')\n",
    "\n",
    "# plt.show()"
   ]
  }
 ],
 "metadata": {
  "kernelspec": {
   "display_name": "Python 3",
   "language": "python",
   "name": "python3"
  },
  "language_info": {
   "codemirror_mode": {
    "name": "ipython",
    "version": 3
   },
   "file_extension": ".py",
   "mimetype": "text/x-python",
   "name": "python",
   "nbconvert_exporter": "python",
   "pygments_lexer": "ipython3",
   "version": "3.6.1"
  }
 },
 "nbformat": 4,
 "nbformat_minor": 2
}
