{
 "cells": [
  {
   "cell_type": "code",
   "execution_count": null,
   "metadata": {
    "collapsed": true
   },
   "outputs": [],
   "source": [
    "import pickle\n",
    "import numpy as np\n",
    "import matplotlib.pyplot as plt\n",
    "from mpl_toolkits.axes_grid1 import AxesGrid, ImageGrid, Divider\n",
    "from mpl_toolkits.axes_grid1.axes_size import Scaled, Fixed\n",
    "\n",
    "# %matplotlib notebook"
   ]
  },
  {
   "cell_type": "code",
   "execution_count": null,
   "metadata": {
    "collapsed": true
   },
   "outputs": [],
   "source": [
    "path = '../xor_/logdirs/ffbp_logdir_000/snap.pkl'\n",
    "with open(path, 'rb') as file:\n",
    "    snap = pickle.load(file)"
   ]
  },
  {
   "cell_type": "markdown",
   "metadata": {},
   "source": [
    "# Map out figure frame and populate with axes"
   ]
  },
  {
   "cell_type": "code",
   "execution_count": null,
   "metadata": {},
   "outputs": [],
   "source": [
    "# Params\n",
    "# ========================================================================\n",
    "target = False\n",
    "layer = 'hidden_layer'\n",
    "layer_size = 2\n",
    "layer_inp_size = 2\n",
    "tind = 0\n",
    "pind = 0\n",
    "# ========================================================================\n",
    "\n",
    "# make figure\n",
    "figure = plt.figure(1)\n",
    "\n",
    "# make frame\n",
    "frame = (0.1, 0.1, 0.8, 0.8)\n",
    "\n",
    "# define padding size\n",
    "_ = Scaled(.8) \n",
    "\n",
    "# grid column widths (left to right): weights, biases, net_input, output, gweight, gbiases, gnet_input, goutput\n",
    "w0,  b,  n,  o  = Scaled(layer_size), Scaled(1), Scaled(1), Scaled(1)\n",
    "gw, gb, gn, go = Scaled(layer_size), Scaled(1), Scaled(1), Scaled(1)\n",
    "left_panel = [w0,_,b,_,n,_,o,_]\n",
    "right_panel = [_,gw,_,gb,_,gn,_,go]\n",
    "cols = left_panel + right_panel\n",
    "\n",
    "# row sizes (top to bottom): weights, input\n",
    "i, w1 = Scaled(1), Scaled(layer_inp_size)\n",
    "rows = [i,_,w1]\n",
    "\n",
    "# make divider\n",
    "divider = Divider(fig=figure, pos=frame, horizontal=cols, vertical=rows, aspect=False)\n",
    "\n",
    "# provide coords for axes\n",
    "coords = {\n",
    "    'input_'     : (0, 0),\n",
    "    'weights'    : (0, 2),\n",
    "    'biases'     : (2, 2),\n",
    "    'net_input'  : (4, 2),\n",
    "    'output'     : (6, 2),\n",
    "    'gweights'   : (9, 2),\n",
    "    'gbiases'    : (11, 2),\n",
    "    'gnet_input' : (13, 2),\n",
    "    'goutput'    : (15, 2)\n",
    "\n",
    "}\n",
    "\n",
    "# create axes and locate appropriately\n",
    "axes_dict = {}\n",
    "for k, ax_coords in coords.items():\n",
    "    data = snap[tind][layer][k]\n",
    "    if 'biases' in k:\n",
    "        data = np.expand_dims(data, axis=1)\n",
    "    if data.ndim > 2:\n",
    "        data = data[pind]\n",
    "        if k != 'input_':\n",
    "            data = data.T\n",
    "    axes_dict[k] = figure.add_axes(frame, xticks=[], yticks=[])\n",
    "    axes_dict[k].set_axes_locator(divider.new_locator(nx=ax_coords[0], ny=ax_coords[1]))\n",
    "    axes_dict[k].imshow(data, cmap = 'coolwarm', vmin=-1, vmax=1)\n",
    "plt.draw()\n",
    "plt.show()"
   ]
  },
  {
   "cell_type": "markdown",
   "metadata": {},
   "source": [
    "# Fill axes with data"
   ]
  },
  {
   "cell_type": "code",
   "execution_count": null,
   "metadata": {},
   "outputs": [],
   "source": [
    "# # Params\n",
    "# # ========================================================================\n",
    "# colormap = 'RdBu'\n",
    "# vrange = (-1,1)\n",
    "# tind = 0\n",
    "# pind = 0\n",
    "# layer_name = layer\n",
    "# axes_dict = axes_dict\n",
    "# snap = snap\n",
    "# # ========================================================================\n",
    "\n",
    "# for k, ax in axes_dict.items():\n",
    "#     data = snap[tind][layer_name][k]\n",
    "#     if 'biases' in k:\n",
    "#         data = np.expand_dims(data, axis=1)\n",
    "#     if data.ndim > 2:\n",
    "#         data = data[pind]\n",
    "#         if k != 'input_':\n",
    "#             data = data.T\n",
    "#     ax.plot([0,1])\n",
    "# #     ax.imshow(data, cmap = colormap, vmin=vrange[0], vmax=vrange[1])\n",
    "\n",
    "# plt.draw()\n",
    "# plt.show()\n",
    "rows"
   ]
  },
  {
   "cell_type": "code",
   "execution_count": null,
   "metadata": {
    "collapsed": true
   },
   "outputs": [],
   "source": [
    "# # High-level creation of axes_grid\n",
    "# axes_grid = AxesGrid(\n",
    "#     fig = fig, \n",
    "#     rect = frame,\n",
    "#     nrows_ncols = (2, 8 + int(target)),\n",
    "#     axes_pad = 0.1,\n",
    "#     share_all=True,\n",
    "#     label_mode = \"L\",\n",
    "#     aspect = False,\n",
    "#     direction = 'row'\n",
    "# )\n",
    "\n",
    "# ld=snap[tind][layer] # <-- layer dict\n",
    "# data = [\n",
    "#     ld['weights'],\n",
    "#     ld['biases'].reshape([-1,1]),\n",
    "#     ld['net_input'][pind].T,\n",
    "#     ld['output'][pind].T,\n",
    "#     ld['gweights'][pind],\n",
    "#     ld['gbiases'][pind].reshape([-1,1]),\n",
    "#     ld['gnet_input'][pind].T,\n",
    "#     ld['goutput'][pind].T,\n",
    "#     np.array([[0,0]])\n",
    "# ]\n",
    "\n",
    "# for i, (ax, ar) in enumerate(zip(axes_grid, data)):\n",
    "#     print(ar.shape)\n",
    "#     ax.imshow(ar, interpolation='nearest')\n",
    "\n",
    "# plt.show()"
   ]
  },
  {
   "cell_type": "code",
   "execution_count": null,
   "metadata": {
    "scrolled": false
   },
   "outputs": [],
   "source": [
    "fig1 = plt.figure(2, (5.5, 4.))\n",
    "\n",
    "# the rect parameter will be ignore as we will set axes_locator\n",
    "rect = (0.1, 0.1, 0.8, 0.8)\n",
    "ax = [fig1.add_axes(rect, label=\"%d\"%i, xticks=[], yticks=[]) for i in range(3)]\n",
    "\n",
    "horiz = [Scaled(2), Scaled(.5), Scaled(2), Scaled(.5)]\n",
    "\n",
    "vert = [Scaled(1), Scaled(.5), Scaled(2)]\n",
    "\n",
    "# divide the axes rectangle into grid whose size is specified by horiz * vert\n",
    "divider = Divider(fig1, rect, horiz, vert, aspect=False)\n",
    "\n",
    "x=[0,1]\n",
    "ax[0].set_axes_locator(divider.new_locator(nx=0, ny=0))\n",
    "ax[1].set_axes_locator(divider.new_locator(nx=0, ny=2))\n",
    "ax[2].set_axes_locator(divider.new_locator(nx=2, ny=2))\n",
    "# ax[3].set_axes_locator(divider.new_locator(nx=2, ny=0))\n",
    "\n",
    "ax[0].imshow([[1,2]])phot\n",
    "\n",
    "ax[1].imshow([[1,2],[3,4]])\n",
    "ax[2].imshow([[1],[2]])\n",
    "\n",
    "\n",
    "plt.draw()\n",
    "plt.show()"
   ]
  },
  {
   "cell_type": "code",
   "execution_count": null,
   "metadata": {
    "collapsed": true
   },
   "outputs": [],
   "source": []
  }
 ],
 "metadata": {
  "kernelspec": {
   "display_name": "Python 3",
   "language": "python",
   "name": "python3"
  },
  "language_info": {
   "codemirror_mode": {
    "name": "ipython",
    "version": 3
   },
   "file_extension": ".py",
   "mimetype": "text/x-python",
   "name": "python",
   "nbconvert_exporter": "python",
   "pygments_lexer": "ipython3",
   "version": "3.6.1"
  }
 },
 "nbformat": 4,
 "nbformat_minor": 2
}
