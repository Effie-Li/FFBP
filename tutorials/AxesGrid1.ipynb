{
 "cells": [
  {
   "cell_type": "code",
   "execution_count": 1,
   "metadata": {
    "collapsed": true
   },
   "outputs": [],
   "source": [
    "import pickle\n",
    "import numpy as np\n",
    "import matplotlib.pyplot as plt\n",
    "from mpl_toolkits.axes_grid1 import AxesGrid, ImageGrid, Divider\n",
    "from mpl_toolkits.axes_grid1.axes_size import Scaled, Fixed, AxesX, AxesY\n",
    "\n",
    "# %matplotlib notebook"
   ]
  },
  {
   "cell_type": "code",
   "execution_count": 2,
   "metadata": {
    "collapsed": true
   },
   "outputs": [],
   "source": [
    "path = '../xor_/logdirs/ffbp_logdir_000/snap.pkl'\n",
    "with open(path, 'rb') as file:\n",
    "    snap = pickle.load(file)"
   ]
  },
  {
   "cell_type": "markdown",
   "metadata": {},
   "source": [
    "# Map out figure frame and populate with axes"
   ]
  },
  {
   "cell_type": "code",
   "execution_count": 7,
   "metadata": {},
   "outputs": [],
   "source": [
    "# Params\n",
    "# ========================================================================\n",
    "target = False\n",
    "layer_name = 'hidden_layer'\n",
    "layer_size = 2\n",
    "layer_inp_size = 2\n",
    "tind = 0\n",
    "pind = 0\n",
    "# ========================================================================\n",
    "\n",
    "# make figuresbusub\n",
    "\n",
    "figure = plt.figure(1)\n",
    "\n",
    "# make frame\n",
    "frame = (0.1, 0.1, 0.8, 0.8)\n",
    "\n",
    "# define padding size\n",
    "_ = Scaled(.8) \n",
    "\n",
    "# grid column widths (left to right): weights, biases, net_input, output, gweight, gbiases, gnet_input, goutput\n",
    "w0,  b,  n,  o  = Scaled(layer_size), Scaled(1), Scaled(1), Scaled(1)\n",
    "gw, gb, gn, go = Scaled(layer_size), Scaled(1), Scaled(1), Scaled(1)\n",
    "left_panel = [w0,_,b,_,n,_,o,_]\n",
    "right_panel = [_,gw,_,gb,_,gn,_,go]\n",
    "cols = left_panel + right_panel\n",
    "\n",
    "# row sizes (top to bottom): weights, input\n",
    "i, w1 = Scaled(1), Scaled(layer_inp_size)\n",
    "rows = [i,_,w1]\n",
    "\n",
    "# make divider\n",
    "divider = Divider(fig=figure, pos=frame, horizontal=cols, vertical=rows, aspect=True)\n",
    "\n",
    "# provide coords for axes\n",
    "ax_params = {\n",
    "    'input_'     : ((0, 0), 'x'),\n",
    "    'weights'    : ((0, 2), 'W'),\n",
    "    'biases'     : ((2, 2), 'b'),\n",
    "    'net_input'  : ((4, 2), 'net'),\n",
    "    'output'     : ((6, 2), 'a'),\n",
    "    'gweights'   : ((9, 2), 'W\\''),\n",
    "    'gbiases'    : ((11, 2), 'b\\''),\n",
    "    'gnet_input' : ((13, 2), 'net\\''),\n",
    "    'goutput'    : ((15, 2), 'a\\'')\n",
    "}\n",
    "\n",
    "# create axes and locate appropriately\n",
    "axes_dict = {}\n",
    "for k, (ax_coords, ax_title) in ax_params.items():\n",
    "    axes_dict[k] = figure.add_axes(frame, label=k, xticks=[], yticks=[])\n",
    "    axes_dict[k].set_axes_locator(divider.new_locator(nx=ax_coords[0], ny=ax_coords[1]))\n",
    "    if k == 'input_':\n",
    "        axes_dict[k].set_xlabel(ax_title)\n",
    "    else:\n",
    "        axes_dict[k].set_title(ax_title)\n",
    "    "
   ]
  },
  {
   "cell_type": "markdown",
   "metadata": {},
   "source": [
    "# Fill axes with data"
   ]
  },
  {
   "cell_type": "code",
   "execution_count": 8,
   "metadata": {},
   "outputs": [
    {
     "data": {
      "image/png": "[encoded data removed]",
      "text/plain": [
       "<matplotlib.figure.Figure at 0x1180f61d0>"
      ]
     },
     "metadata": {},
     "output_type": "display_data"
    }
   ],
   "source": [
    "# Params\n",
    "# ========================================================================\n",
    "colormap = 'RdBu'\n",
    "vrange = (-1,1)\n",
    "tind = 0\n",
    "pind = 0\n",
    "layer_name = layer_name\n",
    "axes_dict = axes_dict\n",
    "snap = snap\n",
    "# ========================================================================\n",
    "\n",
    "for k, ax in axes_dict.items():\n",
    "    data = snap[tind][layer_name][k]\n",
    "    if 'biases' in k:\n",
    "        data = np.expand_dims(data, axis=1)\n",
    "    if data.ndim > 2:\n",
    "        data = data[pind]\n",
    "        if k != 'input_':\n",
    "            data = data.T\n",
    "    ax.imshow(data, cmap = colormap, vmin=vrange[0], vmax=vrange[1])\n",
    "\n",
    "plt.draw()\n",
    "plt.show()"
   ]
  },
  {
   "cell_type": "code",
   "execution_count": null,
   "metadata": {
    "collapsed": true
   },
   "outputs": [],
   "source": []
  }
 ],
 "metadata": {
  "kernelspec": {
   "display_name": "Python 3",
   "language": "python",
   "name": "python3"
  },
  "language_info": {
   "codemirror_mode": {
    "name": "ipython",
    "version": 3
   },
   "file_extension": ".py",
   "mimetype": "text/x-python",
   "name": "python",
   "nbconvert_exporter": "python",
   "pygments_lexer": "ipython3",
   "version": "3.6.1"
  }
 },
 "nbformat": 4,
 "nbformat_minor": 2
}
