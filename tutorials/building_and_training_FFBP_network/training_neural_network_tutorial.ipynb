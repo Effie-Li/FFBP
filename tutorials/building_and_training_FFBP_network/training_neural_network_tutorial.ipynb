{
 "cells": [
  {
   "cell_type": "markdown",
   "metadata": {},
   "source": [
    "# Building and Training a Neural Network with FFBP\n",
    "This notebook provides instructions on how to build and train your own neural network using pdpyflow's FFBP package and Tensorflow. The FFBP package itself runs tensorflow underneath and is intended to simplify the process of [Tensorflow Graph](https://www.tensorflow.org/programmers_guide/graphs) construction. Tensorflow graph is a computational structure that *describes* the flow of data (tensors) through various computational operations. Thus, constructing and running a graph are separated conceptually, as well as in the code. \n",
    "\n",
    "Training a neural network is accomplished in three steps:\n",
    "1. Defining input data [&#x21F1;](#step1)\n",
    "2. Constructing neural network [&#x21F1;](#step2)\n",
    "3. Running neural network [&#x21F1;](#step3)\n",
    "\n",
    "We begin by importing the required packages. Run the cell below to make the imports (<kbd>Ctrl</kbd>+<kbd>Enter</kbd>)."
   ]
  },
  {
   "cell_type": "code",
   "execution_count": null,
   "metadata": {},
   "outputs": [],
   "source": [
    "import tensorflow as tf\n",
    "import FFBP\n",
    "tf.logging.set_verbosity(tf.logging.ERROR) # Prevent unwanted logging messages by tensorflow"
   ]
  },
  {
   "cell_type": "markdown",
   "metadata": {},
   "source": [
    "<a id='step2'> </a>\n",
    "## 1. Defining Input Data\n",
    "Next, we need to create `FFBP.InputData` for training and testing. Refer to the [InputData tutorial](https://github.com/alex-ten/pdpyflow/blob/master/tutorials/FFBP_network/InputData_tutorial.ipynb) to see how to create an `InputData` object. The cell below creates two `InputData` objects, `TRAIN_DATA` and `TEST_DATA` that will be used for training and testing, respectively. Note, by convention we capitalize the names of variables that are referenced globally accross cells (e.g. `FFBP_GRAPH`, `NUM_EPOCHS`)."
   ]
  },
  {
   "cell_type": "code",
   "execution_count": null,
   "metadata": {
    "collapsed": true
   },
   "outputs": [],
   "source": [
    "NUM_EPOCHS = 2\n",
    "\n",
    "FFBP_GRAPH = tf.Graph()\n",
    "\n",
    "# Create FFBP.InputData for training and testing (within the context of created graph)\n",
    "with FFBP_GRAPH.as_default():\n",
    "    \n",
    "    # Create data for training\n",
    "    TRAIN_DATA = FFBP.InputData(\n",
    "        path_to_data_file = 'auto_data_train.txt',\n",
    "        num_epochs = NUM_EPOCHS,\n",
    "        batch_size = 4,\n",
    "        data_len = 8,\n",
    "        inp_size = 8, \n",
    "        targ_size = 8,\n",
    "        shuffle_seed = SHUFFLE\n",
    "    )\n",
    "    # Create data for testing\n",
    "    TEST_DATA = FFBP.InputData(\n",
    "        path_to_data_file = 'auto_data_test.txt',\n",
    "        num_epochs = NUM_EPOCHS,\n",
    "        batch_size = 15,\n",
    "        inp_size = 8, \n",
    "        targ_size = 8,\n",
    "        data_len = 15\n",
    "    )"
   ]
  },
  {
   "cell_type": "markdown",
   "metadata": {},
   "source": [
    "<a id='step1'> </a>\n",
    "## 2. Constructing Neural Network\n",
    "Before we create a network (`FFBP.Model` object) we need to construct its components:\n",
    "- Input placeholder\n",
    "- Network layers\n",
    "- Target placeholder\n"
   ]
  },
  {
   "cell_type": "code",
   "execution_count": null,
   "metadata": {
    "collapsed": true
   },
   "outputs": [],
   "source": [
    "# Add network components to the graph\n",
    "with FFBP_GRAPH.as_default():\n",
    "    model_name = 'xor_model'\n",
    "    with tf.name_scope(model_name):\n",
    "        \n",
    "        # Create an input placeholder\n",
    "        input_  = tf.placeholder(dtype = tf.float32, shape=[None, INP_SIZE], name='model_inp')\n",
    "        \n",
    "        # Create first hidden layer\n",
    "        hidden_layer = FFBP.BasicLayer(\n",
    "            layer_name = 'hidden_layer', \n",
    "            layer_input = input_, \n",
    "            size = 2, \n",
    "            wrange = [-WR, WR], \n",
    "            nonlin = tf.nn.sigmoid, \n",
    "            bias = True, \n",
    "            seed = None\n",
    "        )\n",
    "        \n",
    "        # Create another first-level hidden layer\n",
    "        output_layer = FFBP.BasicLayer(\n",
    "            layer_name = 'output_layer', \n",
    "            layer_input = hidden_layer.output, \n",
    "            size = 1, \n",
    "            wrange = [-WR, WR], \n",
    "            nonlin = tf.nn.sigmoid, \n",
    "            bias = True, \n",
    "            seed = None\n",
    "        )\n",
    "\n",
    "        target = tf.placeholder(dtype = tf.float32, shape=[None, TARG_SIZE], name='targets')\n",
    "\n",
    "        MODEL = FFBP.Model(\n",
    "            name = model_name,\n",
    "            layers = [hidden_layer, output_layer],\n",
    "            train_data = train_data, \n",
    "            inp        = input_,\n",
    "            targ       = target,\n",
    "            loss       = tf.reduce_sum(tf.squared_difference(target, output_layer.output), name='loss_function'),\n",
    "            optimizer  = tf.train.MomentumOptimizer(lr, m),\n",
    "            test_data  = test_data\n",
    "        )"
   ]
  }
 ],
 "metadata": {
  "kernelspec": {
   "display_name": "Python 3",
   "language": "python",
   "name": "python3"
  },
  "language_info": {
   "codemirror_mode": {
    "name": "ipython",
    "version": 3
   },
   "file_extension": ".py",
   "mimetype": "text/x-python",
   "name": "python",
   "nbconvert_exporter": "python",
   "pygments_lexer": "ipython3",
   "version": "3.6.1"
  }
 },
 "nbformat": 4,
 "nbformat_minor": 2
}
