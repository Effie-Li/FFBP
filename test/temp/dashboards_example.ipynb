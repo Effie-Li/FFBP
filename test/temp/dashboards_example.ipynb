{
 "cells": [
  {
   "cell_type": "markdown",
   "metadata": {},
   "source": [
    "## Widgets\n",
    "\n",
    "You can think of a widget as having two parts:\n",
    "\n",
    "- The UI/HTML element that renders in the output cell (e.g., a textbox, a slider)\n",
    "- An event handler that lets you specify what should happen when the value changes. In most cases, you'll want to define a **Python function** that gets called when the user changes the input, so you can update other elements of your notebook (e.g., visualizations) accordingly."
   ]
  },
  {
   "cell_type": "code",
   "execution_count": 3,
   "metadata": {
    "collapsed": true
   },
   "outputs": [],
   "source": [
    "import ipywidgets\n",
    "from ipywidgets import widgets\n",
    "from IPython.display import display"
   ]
  },
  {
   "cell_type": "markdown",
   "metadata": {},
   "source": [
    "## Slider widget"
   ]
  },
  {
   "cell_type": "code",
   "execution_count": 12,
   "metadata": {
    "collapsed": true
   },
   "outputs": [
    {
     "data": {
      "application/vnd.jupyter.widget-view+json": {
       "model_id": "61871d5a5a8a42e98984b6207d1bd0fd"
      }
     },
     "metadata": {},
     "output_type": "display_data"
    },
    {
     "data": {
      "text/plain": [
       "{'_cross_validation_lock': False,\n",
       " '_model_id': '61871d5a5a8a42e98984b6207d1bd0fd',\n",
       " '_trait_notifiers': {'comm': {'change': [<traitlets.traitlets.ObserveHandler at 0x109afe198>]},\n",
       "  'config': {'change': [<traitlets.traitlets.ObserveHandler at 0x108428c18>]}},\n",
       " '_trait_validators': {'max': <traitlets.traitlets.ValidateHandler at 0x109b26cc0>,\n",
       "  'min': <traitlets.traitlets.ValidateHandler at 0x109b26c50>,\n",
       "  'value': <traitlets.traitlets.ValidateHandler at 0x109b26be0>},\n",
       " '_trait_values': {'_display_callbacks': <ipywidgets.widgets.widget.CallbackDispatcher at 0x109c6ee80>,\n",
       "  '_dom_classes': (),\n",
       "  '_model_module': 'jupyter-js-widgets',\n",
       "  '_model_module_version': '~2.1.4',\n",
       "  '_model_name': 'IntSliderModel',\n",
       "  '_range': False,\n",
       "  '_view_module': 'jupyter-js-widgets',\n",
       "  '_view_module_version': '~2.1.4',\n",
       "  '_view_name': 'IntSliderView',\n",
       "  'comm': <ipykernel.comm.comm.Comm at 0x109b9e7b8>,\n",
       "  'config': {},\n",
       "  'continuous_update': True,\n",
       "  'description': '',\n",
       "  'disabled': False,\n",
       "  'keys': ['_dom_classes',\n",
       "   '_model_module',\n",
       "   '_model_module_version',\n",
       "   '_model_name',\n",
       "   '_range',\n",
       "   '_view_module',\n",
       "   '_view_module_version',\n",
       "   '_view_name',\n",
       "   'continuous_update',\n",
       "   'description',\n",
       "   'disabled',\n",
       "   'layout',\n",
       "   'max',\n",
       "   'min',\n",
       "   'msg_throttle',\n",
       "   'orientation',\n",
       "   'readout',\n",
       "   'readout_format',\n",
       "   'step',\n",
       "   'style',\n",
       "   'value'],\n",
       "  'layout': <ipywidgets.widgets.widget_layout.Layout at 0x109c81438>,\n",
       "  'max': 100,\n",
       "  'min': 0,\n",
       "  'msg_throttle': 1,\n",
       "  'orientation': 'horizontal',\n",
       "  'parent': None,\n",
       "  'readout': True,\n",
       "  'readout_format': 'd',\n",
       "  'step': 1,\n",
       "  'style': <ipywidgets.widgets.widget_int.SliderStyle at 0x109c81518>,\n",
       "  'value': 0}}"
      ]
     },
     "execution_count": 12,
     "metadata": {},
     "output_type": "execute_result"
    }
   ],
   "source": [
    "def slider_function(x):\n",
    "    print(x)\n",
    "\n",
    "slider = widgets.IntSlider()\n",
    "display(slider)\n",
    "slider.__dict__"
   ]
  },
  {
   "cell_type": "code",
   "execution_count": 17,
   "metadata": {
    "collapsed": true
   },
   "outputs": [],
   "source": [
    "from __future__ import print_function\n",
    "from ipywidgets import interact, interactive, fixed, interact_manual\n",
    "import ipywidgets as widgets\n",
    "import matplotlib.pyplot as plt"
   ]
  },
  {
   "cell_type": "code",
   "execution_count": 25,
   "metadata": {},
   "outputs": [
    {
     "data": {
      "application/vnd.jupyter.widget-view+json": {
       "model_id": "5839adb7d691444d938d115643152684"
      }
     },
     "metadata": {},
     "output_type": "display_data"
    }
   ],
   "source": [
    "@interact(x=2.0, y=2.0, big=True)\n",
    "def g(x, y):\n",
    "    f = plt.figure()\n",
    "    ax = f.add_subplot(111, aspect='equal')\n",
    "    ax.arrow(0, 0, x, y, head_width=0.1, head_length=0.1, fc='k', ec='k')\n",
    "    ax.set_xlim(0,7)\n",
    "    ax.set_ylim(0,7)\n",
    "    plt.show()"
   ]
  },
  {
   "cell_type": "code",
   "execution_count": null,
   "metadata": {
    "collapsed": true
   },
   "outputs": [],
   "source": []
  }
 ],
 "metadata": {
  "kernelspec": {
   "display_name": "Python 3",
   "language": "python",
   "name": "python3"
  },
  "language_info": {
   "codemirror_mode": {
    "name": "ipython",
    "version": 3
   },
   "file_extension": ".py",
   "mimetype": "text/x-python",
   "name": "python",
   "nbconvert_exporter": "python",
   "pygments_lexer": "ipython3",
   "version": "3.6.1"
  }
 },
 "nbformat": 4,
 "nbformat_minor": 1
}
