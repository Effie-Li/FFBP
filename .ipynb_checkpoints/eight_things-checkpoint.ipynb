{
 "cells": [
  {
   "cell_type": "code",
   "execution_count": 1,
   "metadata": {},
   "outputs": [
    {
     "name": "stdout",
     "output_type": "stream",
     "text": [
      "/Users/alexten/Projects/pdpyflow\n"
     ]
    }
   ],
   "source": [
    "import os\n",
    "import tensorflow as tf\n",
    "\n",
    "import FFBP.utils as utils\n",
    "from FFBP.constructors import InputData, BasicLayer, FFBPModel\n",
    "\n",
    "print(os.getcwd())"
   ]
  },
  {
   "cell_type": "code",
   "execution_count": 2,
   "metadata": {
    "scrolled": false
   },
   "outputs": [
    {
     "name": "stdout",
     "output_type": "stream",
     "text": [
      "initializing variables\n",
      "creating coordinater and starting queue runners\n",
      "running model\n",
      "epoch 0: 304.1569175720215\n",
      "INFO:tensorflow:Error reported to Coordinator: <class 'tensorflow.python.framework.errors_impl.CancelledError'>, Run call was cancelled\n"
     ]
    },
    {
     "ename": "ValueError",
     "evalue": "operands could not be broadcast together with shapes (8,8) (12,36) ",
     "output_type": "error",
     "traceback": [
      "\u001b[0;31m---------------------------------------------------------------------------\u001b[0m",
      "\u001b[0;31mValueError\u001b[0m                                Traceback (most recent call last)",
      "\u001b[0;32m<ipython-input-2-f6eca936a06d>\u001b[0m in \u001b[0;36m<module>\u001b[0;34m()\u001b[0m\n\u001b[1;32m     95\u001b[0m     \u001b[0;32mfor\u001b[0m \u001b[0mi\u001b[0m \u001b[0;32min\u001b[0m \u001b[0mrange\u001b[0m\u001b[0;34m(\u001b[0m\u001b[0mnum_epochs\u001b[0m\u001b[0;34m)\u001b[0m\u001b[0;34m:\u001b[0m\u001b[0;34m\u001b[0m\u001b[0m\n\u001b[1;32m     96\u001b[0m         \u001b[0;32mif\u001b[0m \u001b[0mi\u001b[0m \u001b[0;34m%\u001b[0m \u001b[0;36m1000\u001b[0m \u001b[0;34m==\u001b[0m \u001b[0;36m0\u001b[0m\u001b[0;34m:\u001b[0m\u001b[0;34m\u001b[0m\u001b[0m\n\u001b[0;32m---> 97\u001b[0;31m             \u001b[0meight_things_model\u001b[0m\u001b[0;34m.\u001b[0m\u001b[0mtest_epoch\u001b[0m\u001b[0;34m(\u001b[0m\u001b[0msession\u001b[0m\u001b[0;34m=\u001b[0m\u001b[0msess\u001b[0m\u001b[0;34m,\u001b[0m \u001b[0mverbose\u001b[0m\u001b[0;34m=\u001b[0m\u001b[0;32mTrue\u001b[0m\u001b[0;34m)\u001b[0m\u001b[0;34m\u001b[0m\u001b[0m\n\u001b[0m\u001b[1;32m     98\u001b[0m \u001b[0;34m\u001b[0m\u001b[0m\n\u001b[1;32m     99\u001b[0m         \u001b[0mloss\u001b[0m \u001b[0;34m=\u001b[0m \u001b[0meight_things_model\u001b[0m\u001b[0;34m.\u001b[0m\u001b[0mtrain_epoch\u001b[0m\u001b[0;34m(\u001b[0m\u001b[0msession\u001b[0m\u001b[0;34m=\u001b[0m\u001b[0msess\u001b[0m\u001b[0;34m)\u001b[0m\u001b[0;34m\u001b[0m\u001b[0m\n",
      "\u001b[0;32m~/Projects/pdpyflow/FFBP/constructors.py\u001b[0m in \u001b[0;36mtest_epoch\u001b[0;34m(self, session, verbose)\u001b[0m\n\u001b[1;32m    203\u001b[0m                                 \u001b[0msnap\u001b[0m\u001b[0;34m[\u001b[0m\u001b[0mlayer_name\u001b[0m\u001b[0;34m]\u001b[0m\u001b[0;34m[\u001b[0m\u001b[0;34m'd{}'\u001b[0m\u001b[0;34m.\u001b[0m\u001b[0mformat\u001b[0m\u001b[0;34m(\u001b[0m\u001b[0mk\u001b[0m\u001b[0;34m)\u001b[0m\u001b[0;34m]\u001b[0m \u001b[0;34m=\u001b[0m \u001b[0mv\u001b[0m\u001b[0;34m*\u001b[0m\u001b[0;36m0\u001b[0m\u001b[0;34m\u001b[0m\u001b[0m\n\u001b[1;32m    204\u001b[0m                             \u001b[0;32melse\u001b[0m\u001b[0;34m:\u001b[0m\u001b[0;34m\u001b[0m\u001b[0m\n\u001b[0;32m--> 205\u001b[0;31m                                 \u001b[0msnap\u001b[0m\u001b[0;34m[\u001b[0m\u001b[0mlayer_name\u001b[0m\u001b[0;34m]\u001b[0m\u001b[0;34m[\u001b[0m\u001b[0;34m'd{}'\u001b[0m\u001b[0;34m.\u001b[0m\u001b[0mformat\u001b[0m\u001b[0;34m(\u001b[0m\u001b[0mk\u001b[0m\u001b[0;34m)\u001b[0m\u001b[0;34m]\u001b[0m \u001b[0;34m=\u001b[0m  \u001b[0mv\u001b[0m \u001b[0;34m-\u001b[0m \u001b[0mself\u001b[0m\u001b[0;34m.\u001b[0m\u001b[0m_prev_param\u001b[0m\u001b[0;34m[\u001b[0m\u001b[0mk\u001b[0m\u001b[0;34m]\u001b[0m\u001b[0;34m\u001b[0m\u001b[0m\n\u001b[0m\u001b[1;32m    206\u001b[0m                         \u001b[0;32melif\u001b[0m \u001b[0mk\u001b[0m \u001b[0;32mnot\u001b[0m \u001b[0;32min\u001b[0m \u001b[0msnap\u001b[0m\u001b[0;34m[\u001b[0m\u001b[0mlayer_name\u001b[0m\u001b[0;34m]\u001b[0m\u001b[0;34m.\u001b[0m\u001b[0mkeys\u001b[0m\u001b[0;34m(\u001b[0m\u001b[0;34m)\u001b[0m\u001b[0;34m:\u001b[0m\u001b[0;34m\u001b[0m\u001b[0m\n\u001b[1;32m    207\u001b[0m                             \u001b[0msnap\u001b[0m\u001b[0;34m[\u001b[0m\u001b[0mlayer_name\u001b[0m\u001b[0;34m]\u001b[0m\u001b[0;34m[\u001b[0m\u001b[0mk\u001b[0m\u001b[0;34m]\u001b[0m \u001b[0;34m=\u001b[0m \u001b[0mnp\u001b[0m\u001b[0;34m.\u001b[0m\u001b[0mexpand_dims\u001b[0m\u001b[0;34m(\u001b[0m\u001b[0mv\u001b[0m\u001b[0;34m,\u001b[0m\u001b[0maxis\u001b[0m \u001b[0;34m=\u001b[0m \u001b[0;36m0\u001b[0m\u001b[0;34m)\u001b[0m\u001b[0;34m\u001b[0m\u001b[0m\n",
      "\u001b[0;31mValueError\u001b[0m: operands could not be broadcast together with shapes (8,8) (12,36) "
     ]
    }
   ],
   "source": [
    "inp_size = (8,4)\n",
    "targ_size = 36\n",
    "data_len = 32\n",
    "\n",
    "num_epochs = 3000\n",
    "batch_size = 1\n",
    "\n",
    "eight_things_graph = tf.Graph()\n",
    "\n",
    "with eight_things_graph.as_default():\n",
    "    with tf.name_scope('train_data'):\n",
    "        train_data = InputData(\n",
    "            path_to_data_file = 'eight_things-train_data.txt',\n",
    "            num_epochs = num_epochs,\n",
    "            batch_size = batch_size, \n",
    "            inp_size = inp_size, \n",
    "            targ_size = targ_size,\n",
    "            data_len = data_len,\n",
    "            shuffle = True, \n",
    "            shuffle_seed = 1\n",
    "        )\n",
    "\n",
    "    with tf.name_scope('test_data'):\n",
    "        test_data = InputData(\n",
    "            path_to_data_file = 'eight_things-train_data.txt',\n",
    "            num_epochs = num_epochs,\n",
    "            batch_size = data_len,\n",
    "            inp_size = inp_size, \n",
    "            targ_size = targ_size,\n",
    "            data_len = data_len,\n",
    "            shuffle = False\n",
    "        )\n",
    "\n",
    "    model_name = 'eight_things_model'\n",
    "    with tf.name_scope(model_name):\n",
    "\n",
    "        item_inp  = tf.placeholder(dtype = tf.float32, shape=[None, inp_size[0]], name='item_inp')\n",
    "        relation_inp = tf.placeholder(dtype = tf.float32, shape=[None, inp_size[1]], name='relation_inp')\n",
    "\n",
    "        representation_layer = BasicLayer(\n",
    "            layer_name = 'representation_layer', \n",
    "            layer_input = item_inp, \n",
    "            size = 8, \n",
    "            wrange = [-.45, .45], \n",
    "            nonlin=tf.nn.sigmoid, \n",
    "            bias=True, \n",
    "            seed=1, # Use None for random seed value\n",
    "        )\n",
    "\n",
    "        hidden_layer = BasicLayer(\n",
    "            layer_name = 'hidden_layer', \n",
    "            layer_input = (representation_layer.output, relation_inp), \n",
    "            size = 12, \n",
    "            wrange = [-.45, .45], \n",
    "            nonlin=tf.nn.sigmoid, \n",
    "            bias=True, \n",
    "            seed=1, # Use None for random seed value\n",
    "        )\n",
    "\n",
    "        attribute_layer = BasicLayer(\n",
    "            layer_name = 'attribute_layer', \n",
    "            layer_input = hidden_layer.output, \n",
    "            size = 36, \n",
    "            wrange = [-.45, .45], \n",
    "            nonlin=tf.nn.sigmoid, \n",
    "            bias=True, \n",
    "            seed=1, # Use None for random seed value\n",
    "        )\n",
    "\n",
    "        target = tf.placeholder(dtype = tf.float32, shape=[None, targ_size], name='targets')\n",
    "\n",
    "        eight_things_model = FFBPModel(\n",
    "            name = model_name,\n",
    "            layers = [representation_layer, hidden_layer, attribute_layer],\n",
    "            train_data = train_data, \n",
    "            inp        = [item_inp, relation_inp],\n",
    "            targ       = target,\n",
    "            loss       = tf.reduce_sum(tf.squared_difference(target, attribute_layer.output), name='loss_function'),\n",
    "            optimizer  = tf.train.MomentumOptimizer(.1, 0),\n",
    "            test_data = test_data\n",
    "        )\n",
    "\n",
    "with tf.Session(graph=eight_things_graph) as sess:\n",
    "    # initialize variables\n",
    "    print('initializing variables')\n",
    "    sess.run(tf.local_variables_initializer())\n",
    "    sess.run(tf.global_variables_initializer())\n",
    "\n",
    "    # create coordinator and queue runners\n",
    "    print('creating coordinater and starting queue runners')\n",
    "    coordinator = tf.train.Coordinator()\n",
    "    threads = tf.train.start_queue_runners(coord=coordinator)\n",
    "    \n",
    "    print('running model')\n",
    "    for i in range(num_epochs):\n",
    "        if i % 1000 == 0: \n",
    "            eight_things_model.test_epoch(session=sess, verbose=True)\n",
    "            \n",
    "        loss = eight_things_model.train_epoch(session=sess)\n",
    "        print(i, end=' - ')\n",
    "\n",
    "        if loss < 0.05:\n",
    "            eight_things_model.test_epoch(session=sess, verbose=True)\n",
    "            print('Stopped due to loss < 0.05')\n",
    "            break\n",
    "    \n",
    "    coordinator.request_stop()\n",
    "    coordinator.join(threads)"
   ]
  },
  {
   "cell_type": "code",
   "execution_count": null,
   "metadata": {
    "collapsed": true
   },
   "outputs": [],
   "source": [
    "# for i,op in enumerate(eight_things_graph.get_operations()):\n",
    "#     print('{}) {}'.format(i, str(op.name)))"
   ]
  }
 ],
 "metadata": {
  "kernelspec": {
   "display_name": "Python 3",
   "language": "python",
   "name": "python3"
  },
  "language_info": {
   "codemirror_mode": {
    "name": "ipython",
    "version": 3
   },
   "file_extension": ".py",
   "mimetype": "text/x-python",
   "name": "python",
   "nbconvert_exporter": "python",
   "pygments_lexer": "ipython3",
   "version": "3.6.1"
  }
 },
 "nbformat": 4,
 "nbformat_minor": 2
}
