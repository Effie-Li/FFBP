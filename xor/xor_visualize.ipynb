{
 "cells": [
  {
   "cell_type": "markdown",
   "metadata": {},
   "source": [
    "# Visualize XOR\n",
    "\n",
    "To view test runlog(s) provide path to the associated log directory (e.g. `logdir='logdirs/logdir_000')`; see [this tutorial](https://github.com/alex-ten/pdpyflow/blob/master/tutorials/building_models/access_anal_vis.ipynb) for more information)."
   ]
  },
  {
   "cell_type": "code",
   "execution_count": null,
   "metadata": {},
   "outputs": [],
   "source": [
    "from FFBP.vis_utils import view_layers\n",
    "\n",
    "logdir = 'path/to/logdir'\n",
    "\n",
    "view_layers(\n",
    "    logdir = logdir, \n",
    "    mode = 2\n",
    ")"
   ]
  }
 ],
 "metadata": {
  "kernelspec": {
   "display_name": "Python 3",
   "language": "python",
   "name": "python3"
  },
  "language_info": {
   "codemirror_mode": {
    "name": "ipython",
    "version": 3
   },
   "file_extension": ".py",
   "mimetype": "text/x-python",
   "name": "python",
   "nbconvert_exporter": "python",
   "pygments_lexer": "ipython3",
   "version": "3.6.4"
  }
 },
 "nbformat": 4,
 "nbformat_minor": 2
}
