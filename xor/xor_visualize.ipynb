{
 "cells": [
  {
   "cell_type": "markdown",
   "metadata": {},
   "source": [
    "# Visualize XOR\n",
    "\n",
    "To view test runlog(s) provide the path to the associated log directory (e.g. `logdir='logdirs/logdir_000')`; see [this tutorial](https://github.com/alex-ten/pdpyflow/blob/master/tutorials/building_models/access_anal_vis.ipynb) for more information). \n",
    "\n",
    "Note the provided function definition for calculating the logistic function output for a given net input value. It is recommended that you use it in a different cell to avoid running `view_layers()` when it is not necessary."
   ]
  },
  {
   "cell_type": "code",
   "execution_count": null,
   "metadata": {},
   "outputs": [],
   "source": [
    "from FFBP.vis_utils import view_layers, view_progress\n",
    "import numpy as np\n",
    "\n",
    "def logistic(net):\n",
    "    return np.divide(1, (1 + np.exp(-net)))"
   ]
  },
  {
   "cell_type": "code",
   "execution_count": null,
   "metadata": {
    "scrolled": false
   },
   "outputs": [],
   "source": [
    "logdir = 'logdirs/logdir_000' # change the digits to visualize results in the desired log\n",
    "\n",
    "view_layers(\n",
    "    logdir = logdir, \n",
    "    mode = 2\n",
    ")"
   ]
  },
  {
   "cell_type": "code",
   "execution_count": null,
   "metadata": {},
   "outputs": [],
   "source": [
    "# Run logistic functions calculations here\n",
    "\n",
    "print(\n",
    "    logistic(0)\n",
    ")"
   ]
  }
 ],
 "metadata": {
  "kernelspec": {
   "display_name": "Python 3",
   "language": "python",
   "name": "python3"
  },
  "language_info": {
   "codemirror_mode": {
    "name": "ipython",
    "version": 3
   },
   "file_extension": ".py",
   "mimetype": "text/x-python",
   "name": "python",
   "nbconvert_exporter": "python",
   "pygments_lexer": "ipython3",
   "version": "3.6.4"
  }
 },
 "nbformat": 4,
 "nbformat_minor": 2
}
