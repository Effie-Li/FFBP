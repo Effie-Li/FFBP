{
 "cells": [
  {
   "cell_type": "code",
   "execution_count": 2,
   "metadata": {
    "collapsed": true
   },
   "outputs": [],
   "source": [
    "import os\n",
    "import pickle\n",
    "import numpy as np"
   ]
  },
  {
   "cell_type": "code",
   "execution_count": 4,
   "metadata": {},
   "outputs": [],
   "source": [
    "path = '/Users/alexten/Projects/pdpyflow/xor/train/ffbp_logir_000/snap.pkl'\n",
    "\n",
    "with open(path, 'rb') as snap_file:\n",
    "    data = pickle.load(snap_file)"
   ]
  },
  {
   "cell_type": "code",
   "execution_count": 9,
   "metadata": {
    "scrolled": false
   },
   "outputs": [
    {
     "data": {
      "text/plain": [
       "{'biases': array([ 0.2793], dtype=float32),\n",
       " 'dbiases': array([ 0.], dtype=float32),\n",
       " 'dweights': array([[ 0.],\n",
       "        [ 0.]], dtype=float32),\n",
       " 'gactivation': array([[[ 1.21145558]],\n",
       " \n",
       "        [[-0.77374113]],\n",
       " \n",
       "        [[-0.77497101]],\n",
       " \n",
       "        [[ 1.23924553]]], dtype=float32),\n",
       " 'gbiases': array([[ 0.28932181],\n",
       "        [-0.18353274],\n",
       "        [-0.18393201],\n",
       "        [ 0.29207829]], dtype=float32),\n",
       " 'gnet_input': array([[[ 0.28932181]],\n",
       " \n",
       "        [[-0.18353274]],\n",
       " \n",
       "        [[-0.18393201]],\n",
       " \n",
       "        [[ 0.29207829]]], dtype=float32),\n",
       " 'gweights': array([[[ 0.1247816 ],\n",
       "         [ 0.11593467]],\n",
       " \n",
       "        [[-0.09964758],\n",
       "         [-0.07515762]],\n",
       " \n",
       "        [[-0.09910569],\n",
       "         [-0.0720137 ]],\n",
       " \n",
       "        [[ 0.18887347],\n",
       "         [ 0.1169043 ]]], dtype=float32),\n",
       " 'net_input': array([[[ 0.42938915]],\n",
       " \n",
       "        [[ 0.46048588]],\n",
       " \n",
       "        [[ 0.4578943 ]],\n",
       " \n",
       "        [[ 0.48794752]]], dtype=float32),\n",
       " 'weights': array([[ 0.27208 ],\n",
       "        [ 0.081714]], dtype=float32)}"
      ]
     },
     "execution_count": 9,
     "metadata": {},
     "output_type": "execute_result"
    }
   ],
   "source": [
    "data[0]['output_layer']"
   ]
  },
  {
   "cell_type": "code",
   "execution_count": 32,
   "metadata": {},
   "outputs": [
    {
     "data": {
      "text/plain": [
       "array([[[ 0.        ,  0.        ],\n",
       "        [ 0.        ,  0.        ]],\n",
       "\n",
       "       [[ 0.        ,  0.        ],\n",
       "        [-0.01239182, -0.00362648]],\n",
       "\n",
       "       [[-0.01243565, -0.0035806 ],\n",
       "        [ 0.        ,  0.        ]],\n",
       "\n",
       "       [[ 0.01815801,  0.00572924],\n",
       "        [ 0.01815801,  0.00572924]]], dtype=float32)"
      ]
     },
     "execution_count": 32,
     "metadata": {},
     "output_type": "execute_result"
    }
   ],
   "source": [
    "data[0]['hidden_layer']['gweights']"
   ]
  },
  {
   "cell_type": "code",
   "execution_count": null,
   "metadata": {
    "collapsed": true
   },
   "outputs": [],
   "source": []
  }
 ],
 "metadata": {
  "kernelspec": {
   "display_name": "Python 3",
   "language": "python",
   "name": "python3"
  },
  "language_info": {
   "codemirror_mode": {
    "name": "ipython",
    "version": 3
   },
   "file_extension": ".py",
   "mimetype": "text/x-python",
   "name": "python",
   "nbconvert_exporter": "python",
   "pygments_lexer": "ipython3",
   "version": "3.6.1"
  }
 },
 "nbformat": 4,
 "nbformat_minor": 2
}
