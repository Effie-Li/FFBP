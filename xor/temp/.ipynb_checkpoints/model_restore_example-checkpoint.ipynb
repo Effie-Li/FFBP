{
 "cells": [
  {
   "cell_type": "code",
   "execution_count": null,
   "metadata": {
    "collapsed": true
   },
   "outputs": [],
   "source": [
    "import tensorflow as tf\n",
    "import numpy as np\n",
    "import os"
   ]
  },
  {
   "cell_type": "code",
   "execution_count": null,
   "metadata": {
    "collapsed": true
   },
   "outputs": [],
   "source": [
    "def enqueue_patterns(path, num_epochs, batch_size, data_len, inp_size, targ_size, shuffle=False, seed=None):\n",
    "    filename_queue = tf.train.string_input_producer(string_tensor = [path], shuffle = False)\n",
    "    reader = tf.TextLineReader(skip_header_lines=True, name='csv_reader')\n",
    "    _, record_strings = reader.read_up_to(queue=filename_queue, num_records=data_len)\n",
    "    defaults = [[default_val] for x in range(inp_size + targ_size)]\n",
    "    defaults.insert(0,[''])\n",
    "    examples = tf.decode_csv(record_strings, record_defaults=defaults)\n",
    "    p = tf.transpose(examples.pop(0))\n",
    "    x = tf.transpose(tf.stack(examples[0:inp_size]))\n",
    "    t = tf.transpose(tf.stack(examples[inp_size:inp_size + targ_size]))\n",
    "    out = [p,x,t]\n",
    "    if shuffle:\n",
    "        out = tf.train.slice_input_producer(\n",
    "            tensor_list = out,\n",
    "            num_epochs=num_epochs,\n",
    "            shuffle=True,\n",
    "            seed=None,\n",
    "            capacity=data_len\n",
    "        )\n",
    "    out = tf.train.batch(\n",
    "        tensors = out,\n",
    "        batch_size = batch_size,\n",
    "        num_threads = 1,\n",
    "        capacity = batch_size,\n",
    "    )\n",
    "    return out\n",
    "\n",
    "with tf.Session() as sess:\n",
    "    sess.run([tf.global_variables_initializer(), tf.local_variables_initializer()])\n",
    "    # Start populating the filename queue.\n",
    "    coord = tf.train.Coordinator()\n",
    "    threads = tf.train.start_queue_runners(sess=sess, coord=coord)\n",
    "    for j in range(num_epochs):\n",
    "        for i in sess.run(out):\n",
    "            print(i)"
   ]
  },
  {
   "cell_type": "code",
   "execution_count": null,
   "metadata": {
    "collapsed": true
   },
   "outputs": [],
   "source": [
    "batch_size = 4\n",
    "inp_size = 2\n",
    "targ_size = 1\n",
    "default_val = 0.0\n",
    "path='../train_data_B.txt'\n",
    "num_epochs = 4\n",
    "data_len = 4\n"
   ]
  }
 ],
 "metadata": {
  "kernelspec": {
   "display_name": "Python 3",
   "language": "python",
   "name": "python3"
  },
  "language_info": {
   "codemirror_mode": {
    "name": "ipython",
    "version": 3
   },
   "file_extension": ".py",
   "mimetype": "text/x-python",
   "name": "python",
   "nbconvert_exporter": "python",
   "pygments_lexer": "ipython3",
   "version": "3.6.1"
  }
 },
 "nbformat": 4,
 "nbformat_minor": 2
}
