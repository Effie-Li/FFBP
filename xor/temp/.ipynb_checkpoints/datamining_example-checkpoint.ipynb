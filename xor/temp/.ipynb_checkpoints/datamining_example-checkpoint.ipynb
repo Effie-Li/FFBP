{
 "cells": [
  {
   "cell_type": "markdown",
   "metadata": {},
   "source": [
    "### Imports\n",
    "Event accumulator to fetch data from a saved checkpoint file"
   ]
  },
  {
   "cell_type": "code",
   "execution_count": null,
   "metadata": {
    "collapsed": true
   },
   "outputs": [],
   "source": [
    "from tensorboard.backend.event_processing.event_accumulator import EventAccumulator\n",
    "import numpy as np\n",
    "import matplotlib.pyplot as plt\n",
    "%matplotlib notebook"
   ]
  },
  {
   "cell_type": "code",
   "execution_count": null,
   "metadata": {},
   "outputs": [],
   "source": [
    "event_file = '../train/log_000'\n",
    "eacc = EventAccumulator(event_file)\n",
    "eacc.Reload()\n",
    "eacc.Tags()"
   ]
  },
  {
   "cell_type": "code",
   "execution_count": null,
   "metadata": {
    "scrolled": false
   },
   "outputs": [],
   "source": [
    "np.set_printoptions(precision=3)\n",
    "\n",
    "model_name = 'XOR_model'\n",
    "layer_name = 'output_layer'\n",
    "data_type = np.float32\n",
    "for tt in eacc.Tags()['tensors']:\n",
    "    fetch = '/'.join([model_name, layer_name])\n",
    "    if fetch in tt:\n",
    "        print(tt)\n",
    "        for te in eacc.Tensors(tt):\n",
    "            shape = [i.size for i in te.tensor_proto.tensor_shape.dim]\n",
    "            binary_tensor = te.tensor_proto.tensor_content\n",
    "            deci_tensor  = np.fromstring(binary_tensor, dtype=np.float32).reshape(shape)\n",
    "            print('training step: {}\\n tensor shape: {}\\n{}\\n'.format(te.step, shape, deci_tensor))\n",
    "    if 'input_patterns' in tt or 'target_patterns' in tt:\n",
    "        print(tt)\n",
    "        for te in eacc.Tensors(tt):\n",
    "            shape = [i.size for i in te.tensor_proto.tensor_shape.dim]\n",
    "            binary_tensor = te.tensor_proto.tensor_content\n",
    "            deci_tensor  = np.fromstring(binary_tensor, dtype=np.float32).reshape(shape)\n",
    "            print('training step: {}\\n tensor shape: {}\\n{}\\n'.format(te.step, shape, deci_tensor))\n",
    "    if 'input_patterns' in tt or 'target_patterns' in tt:\n",
    "        print(tt)\n",
    "        for te in eacc.Tensors(tt):\n",
    "            print(te)\n",
    "#             shape = [i.size for i in te.tensor_proto.tensor_shape.dim]\n",
    "#             binary_tensor = te.tensor_proto.tensor_content\n",
    "#             deci_tensor  = np.fromstring(binary_tensor, dtype=np.float32).reshape(shape)\n",
    "#             print('training step: {}\\n tensor shape: {}\\n{}\\n'.format(te.step, shape, deci_tensor))\n"
   ]
  },
  {
   "cell_type": "code",
   "execution_count": null,
   "metadata": {
    "collapsed": true,
    "scrolled": false
   },
   "outputs": [],
   "source": [
    "def get_event_accumulator(path_to_event_file):\n",
    "    event_file = path_to_event_file\n",
    "    eacc = EventAccumulator(event_file)\n",
    "    eacc.Reload()\n",
    "    return eacc\n",
    "\n",
    "def retrieve_array(path_to_event_file, layer_name, tensor_name, data_type=np.float32):\n",
    "    eacc = get_event_accumulator(path_to_event_file)\n",
    "    ln = layer_name\n",
    "    dt = data_type\n",
    "    for tt in eacc.Tags()['tensors']:\n",
    "        fetch = '/'.join([layer_name, tensor_name])\n",
    "        if fetch in tt:\n",
    "            ra = []\n",
    "            rs = []\n",
    "            for te in eacc.Tensors(tt):\n",
    "                shape = [i.size for i in te.tensor_proto.tensor_shape.dim]\n",
    "                binary_tensor = te.tensor_proto.tensor_content\n",
    "                deci_tensor  = np.fromstring(binary_tensor, dtype=dt).reshape(shape)\n",
    "                ra.append(deci_tensor)\n",
    "                rs.append(te.step)\n",
    "    return ra, rs"
   ]
  },
  {
   "cell_type": "code",
   "execution_count": null,
   "metadata": {
    "collapsed": true
   },
   "outputs": [],
   "source": [
    "retrieve_array(event_file, 'hidden_layer', 'biases')"
   ]
  },
  {
   "cell_type": "code",
   "execution_count": null,
   "metadata": {
    "collapsed": true
   },
   "outputs": [],
   "source": [
    "retrieve_array(event_file, 'hidden_layer', 'net_input')"
   ]
  },
  {
   "cell_type": "code",
   "execution_count": 5,
   "metadata": {},
   "outputs": [
    {
     "ename": "NameError",
     "evalue": "name 'tf' is not defined",
     "output_type": "error",
     "traceback": [
      "\u001b[0;31m---------------------------------------------------------------------------\u001b[0m",
      "\u001b[0;31mNameError\u001b[0m                                 Traceback (most recent call last)",
      "\u001b[0;32m<ipython-input-5-40f62e27b4d0>\u001b[0m in \u001b[0;36m<module>\u001b[0;34m()\u001b[0m\n\u001b[0;32m----> 1\u001b[0;31m \u001b[0;32mfor\u001b[0m \u001b[0me\u001b[0m \u001b[0;32min\u001b[0m \u001b[0mtf\u001b[0m\u001b[0;34m.\u001b[0m\u001b[0mtrain\u001b[0m\u001b[0;34m.\u001b[0m\u001b[0msummary_iterator\u001b[0m\u001b[0;34m(\u001b[0m\u001b[0mevent_file\u001b[0m\u001b[0;34m)\u001b[0m\u001b[0;34m:\u001b[0m\u001b[0;34m\u001b[0m\u001b[0m\n\u001b[0m\u001b[1;32m      2\u001b[0m     \u001b[0mprint\u001b[0m\u001b[0;34m(\u001b[0m\u001b[0me\u001b[0m\u001b[0;34m)\u001b[0m\u001b[0;34m\u001b[0m\u001b[0m\n",
      "\u001b[0;31mNameError\u001b[0m: name 'tf' is not defined"
     ]
    }
   ],
   "source": [
    "import tensorflow as tf\n",
    "import numpy as np\n",
    "import matplotlib.pyplot as plt\n",
    "%matplotlib notebook"
   ]
  },
  {
   "cell_type": "code",
   "execution_count": null,
   "metadata": {
    "collapsed": true
   },
   "outputs": [],
   "source": [
    "for e in tf.train.summary_iterator(event_file):\n",
    "    print(e)"
   ]
  }
 ],
 "metadata": {
  "kernelspec": {
   "display_name": "Python 3",
   "language": "python",
   "name": "python3"
  },
  "language_info": {
   "codemirror_mode": {
    "name": "ipython",
    "version": 3
   },
   "file_extension": ".py",
   "mimetype": "text/x-python",
   "name": "python",
   "nbconvert_exporter": "python",
   "pygments_lexer": "ipython3",
   "version": "3.6.1"
  }
 },
 "nbformat": 4,
 "nbformat_minor": 1
}
