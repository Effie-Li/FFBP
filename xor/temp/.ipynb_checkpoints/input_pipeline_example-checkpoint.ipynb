{
 "cells": [
  {
   "cell_type": "code",
   "execution_count": null,
   "metadata": {
    "collapsed": true
   },
   "outputs": [],
   "source": [
    "import tensorflow as tf\n",
    "import numpy as np\n",
    "import os"
   ]
  },
  {
   "cell_type": "code",
   "execution_count": 2,
   "metadata": {
    "collapsed": true
   },
   "outputs": [],
   "source": [
    "def enqueue_patterns(path_to_data_file,\n",
    "                     num_epochs,\n",
    "                     batch_size,\n",
    "                     data_len,\n",
    "                     inp_size, \n",
    "                     targ_size, \n",
    "                     shuffle = False,\n",
    "                     seed = None):\n",
    "    \n",
    "    filename_queue = tf.train.string_input_producer(string_tensor = [path_to_data_file], shuffle = False)\n",
    "    reader = tf.TextLineReader(skip_header_lines=True, name='csv_reader')\n",
    "    _, record_strings = reader.read_up_to(queue=filename_queue, num_records=data_len)\n",
    "    defaults = [[default_val] for x in range(inp_size + targ_size)]\n",
    "    defaults.insert(0,[''])\n",
    "    examples = tf.decode_csv(record_strings, record_defaults=defaults)\n",
    "    p = tf.transpose(examples.pop(0))\n",
    "    x = tf.transpose(tf.stack(examples[0:inp_size]))\n",
    "    t = tf.transpose(tf.stack(examples[inp_size:inp_size + targ_size]))\n",
    "    out = [p,x,t]\n",
    "    if shuffle:\n",
    "        out = tf.train.slice_input_producer(\n",
    "            tensor_list = out,\n",
    "            num_epochs=num_epochs,\n",
    "            shuffle=True,\n",
    "            seed=None,\n",
    "            capacity=data_len\n",
    "        )\n",
    "    out = tf.train.batch(\n",
    "        tensors = out,\n",
    "        batch_size = batch_size,\n",
    "        num_threads = 1,\n",
    "        capacity = batch_size,\n",
    "        dynamic_pad = True\n",
    "    )\n",
    "\n",
    "    return out\n",
    "\n",
    "def train(sess, examples, data_len):\n",
    "    stdout = 'Label: \\n{}\\nInput: \\n{}\\nTarget: \\n{}\\n'\n",
    "    print('>>> TRAIN <<<\\n===================')\n",
    "    for i in range(data_len // batch_size):\n",
    "        print('step:',i)\n",
    "        pat_name, inp, targ = sess.run(examples)\n",
    "        print(stdout.format(pat_name, inp, targ))\n",
    "\n",
    "def test(sess, examples, data_len):\n",
    "    print('>>> TEST <<<\\n===================')\n",
    "    pat_lab, inp, targ = sess.run(examples)\n",
    "    for pl, x, t in zip(pat_lab, inp, targ):\n",
    "        print(pl, x, t)"
   ]
  },
  {
   "cell_type": "code",
   "execution_count": 3,
   "metadata": {
    "scrolled": false
   },
   "outputs": [
    {
     "ename": "ValueError",
     "evalue": "Queue shapes must have the same length as dtypes",
     "output_type": "error",
     "traceback": [
      "\u001b[0;31m---------------------------------------------------------------------------\u001b[0m",
      "\u001b[0;31mValueError\u001b[0m                                Traceback (most recent call last)",
      "\u001b[0;32m<ipython-input-3-28c935e293b1>\u001b[0m in \u001b[0;36m<module>\u001b[0;34m()\u001b[0m\n\u001b[1;32m     14\u001b[0m     \u001b[0minp_size\u001b[0m\u001b[0;34m,\u001b[0m\u001b[0;34m\u001b[0m\u001b[0m\n\u001b[1;32m     15\u001b[0m     \u001b[0mtarg_size\u001b[0m\u001b[0;34m,\u001b[0m\u001b[0;34m\u001b[0m\u001b[0m\n\u001b[0;32m---> 16\u001b[0;31m     shuffle=True)\n\u001b[0m\u001b[1;32m     17\u001b[0m \u001b[0;34m\u001b[0m\u001b[0m\n\u001b[1;32m     18\u001b[0m examples_test = enqueue_patterns(\n",
      "\u001b[0;32m<ipython-input-2-489b63f69485>\u001b[0m in \u001b[0;36menqueue_patterns\u001b[0;34m(path_to_data_file, num_epochs, batch_size, data_len, inp_size, targ_size, shuffle, seed)\u001b[0m\n\u001b[1;32m     31\u001b[0m         \u001b[0mnum_threads\u001b[0m \u001b[0;34m=\u001b[0m \u001b[0;36m1\u001b[0m\u001b[0;34m,\u001b[0m\u001b[0;34m\u001b[0m\u001b[0m\n\u001b[1;32m     32\u001b[0m         \u001b[0mcapacity\u001b[0m \u001b[0;34m=\u001b[0m \u001b[0mbatch_size\u001b[0m\u001b[0;34m,\u001b[0m\u001b[0;34m\u001b[0m\u001b[0m\n\u001b[0;32m---> 33\u001b[0;31m         \u001b[0mshapes\u001b[0m \u001b[0;34m=\u001b[0m \u001b[0;34m[\u001b[0m\u001b[0mbatch_size\u001b[0m \u001b[0;32mfor\u001b[0m \u001b[0mtensor\u001b[0m \u001b[0;32min\u001b[0m \u001b[0mout\u001b[0m\u001b[0;34m]\u001b[0m\u001b[0;34m\u001b[0m\u001b[0m\n\u001b[0m\u001b[1;32m     34\u001b[0m     )\n\u001b[1;32m     35\u001b[0m \u001b[0;34m\u001b[0m\u001b[0m\n",
      "\u001b[0;32m~/anaconda/lib/python3.6/site-packages/tensorflow/python/training/input.py\u001b[0m in \u001b[0;36mbatch\u001b[0;34m(tensors, batch_size, num_threads, capacity, enqueue_many, shapes, dynamic_pad, allow_smaller_final_batch, shared_name, name)\u001b[0m\n\u001b[1;32m    920\u001b[0m       \u001b[0mallow_smaller_final_batch\u001b[0m\u001b[0;34m=\u001b[0m\u001b[0mallow_smaller_final_batch\u001b[0m\u001b[0;34m,\u001b[0m\u001b[0;34m\u001b[0m\u001b[0m\n\u001b[1;32m    921\u001b[0m       \u001b[0mshared_name\u001b[0m\u001b[0;34m=\u001b[0m\u001b[0mshared_name\u001b[0m\u001b[0;34m,\u001b[0m\u001b[0;34m\u001b[0m\u001b[0m\n\u001b[0;32m--> 922\u001b[0;31m       name=name)\n\u001b[0m\u001b[1;32m    923\u001b[0m \u001b[0;34m\u001b[0m\u001b[0m\n\u001b[1;32m    924\u001b[0m \u001b[0;34m\u001b[0m\u001b[0m\n",
      "\u001b[0;32m~/anaconda/lib/python3.6/site-packages/tensorflow/python/training/input.py\u001b[0m in \u001b[0;36m_batch\u001b[0;34m(tensors, batch_size, keep_input, num_threads, capacity, enqueue_many, shapes, dynamic_pad, allow_smaller_final_batch, shared_name, name)\u001b[0m\n\u001b[1;32m    705\u001b[0m     \u001b[0;31m# TODO(josh11b,mrry): Switch to BatchQueue once it is written.\u001b[0m\u001b[0;34m\u001b[0m\u001b[0;34m\u001b[0m\u001b[0m\n\u001b[1;32m    706\u001b[0m     queue = _which_queue(dynamic_pad)(\n\u001b[0;32m--> 707\u001b[0;31m         capacity=capacity, dtypes=types, shapes=shapes, shared_name=shared_name)\n\u001b[0m\u001b[1;32m    708\u001b[0m     \u001b[0m_enqueue\u001b[0m\u001b[0;34m(\u001b[0m\u001b[0mqueue\u001b[0m\u001b[0;34m,\u001b[0m \u001b[0mtensor_list\u001b[0m\u001b[0;34m,\u001b[0m \u001b[0mnum_threads\u001b[0m\u001b[0;34m,\u001b[0m \u001b[0menqueue_many\u001b[0m\u001b[0;34m,\u001b[0m \u001b[0mkeep_input\u001b[0m\u001b[0;34m)\u001b[0m\u001b[0;34m\u001b[0m\u001b[0m\n\u001b[1;32m    709\u001b[0m     summary.scalar(\"fraction_of_%d_full\" % capacity,\n",
      "\u001b[0;32m~/anaconda/lib/python3.6/site-packages/tensorflow/python/ops/data_flow_ops.py\u001b[0m in \u001b[0;36m__init__\u001b[0;34m(self, capacity, dtypes, shapes, names, shared_name, name)\u001b[0m\n\u001b[1;32m    692\u001b[0m         shared_name=shared_name, name=name)\n\u001b[1;32m    693\u001b[0m \u001b[0;34m\u001b[0m\u001b[0m\n\u001b[0;32m--> 694\u001b[0;31m     \u001b[0msuper\u001b[0m\u001b[0;34m(\u001b[0m\u001b[0mFIFOQueue\u001b[0m\u001b[0;34m,\u001b[0m \u001b[0mself\u001b[0m\u001b[0;34m)\u001b[0m\u001b[0;34m.\u001b[0m\u001b[0m__init__\u001b[0m\u001b[0;34m(\u001b[0m\u001b[0mdtypes\u001b[0m\u001b[0;34m,\u001b[0m \u001b[0mshapes\u001b[0m\u001b[0;34m,\u001b[0m \u001b[0mnames\u001b[0m\u001b[0;34m,\u001b[0m \u001b[0mqueue_ref\u001b[0m\u001b[0;34m)\u001b[0m\u001b[0;34m\u001b[0m\u001b[0m\n\u001b[0m\u001b[1;32m    695\u001b[0m \u001b[0;34m\u001b[0m\u001b[0m\n\u001b[1;32m    696\u001b[0m \u001b[0;34m\u001b[0m\u001b[0m\n",
      "\u001b[0;32m~/anaconda/lib/python3.6/site-packages/tensorflow/python/ops/data_flow_ops.py\u001b[0m in \u001b[0;36m__init__\u001b[0;34m(self, dtypes, shapes, names, queue_ref)\u001b[0m\n\u001b[1;32m    150\u001b[0m     \u001b[0;32mif\u001b[0m \u001b[0mshapes\u001b[0m \u001b[0;32mis\u001b[0m \u001b[0;32mnot\u001b[0m \u001b[0;32mNone\u001b[0m\u001b[0;34m:\u001b[0m\u001b[0;34m\u001b[0m\u001b[0m\n\u001b[1;32m    151\u001b[0m       \u001b[0;32mif\u001b[0m \u001b[0mlen\u001b[0m\u001b[0;34m(\u001b[0m\u001b[0mshapes\u001b[0m\u001b[0;34m)\u001b[0m \u001b[0;34m!=\u001b[0m \u001b[0mlen\u001b[0m\u001b[0;34m(\u001b[0m\u001b[0mdtypes\u001b[0m\u001b[0;34m)\u001b[0m\u001b[0;34m:\u001b[0m\u001b[0;34m\u001b[0m\u001b[0m\n\u001b[0;32m--> 152\u001b[0;31m         \u001b[0;32mraise\u001b[0m \u001b[0mValueError\u001b[0m\u001b[0;34m(\u001b[0m\u001b[0;34m\"Queue shapes must have the same length as dtypes\"\u001b[0m\u001b[0;34m)\u001b[0m\u001b[0;34m\u001b[0m\u001b[0m\n\u001b[0m\u001b[1;32m    153\u001b[0m       \u001b[0mself\u001b[0m\u001b[0;34m.\u001b[0m\u001b[0m_shapes\u001b[0m \u001b[0;34m=\u001b[0m \u001b[0;34m[\u001b[0m\u001b[0mtensor_shape\u001b[0m\u001b[0;34m.\u001b[0m\u001b[0mTensorShape\u001b[0m\u001b[0;34m(\u001b[0m\u001b[0ms\u001b[0m\u001b[0;34m)\u001b[0m \u001b[0;32mfor\u001b[0m \u001b[0ms\u001b[0m \u001b[0;32min\u001b[0m \u001b[0mshapes\u001b[0m\u001b[0;34m]\u001b[0m\u001b[0;34m\u001b[0m\u001b[0m\n\u001b[1;32m    154\u001b[0m     \u001b[0;32melse\u001b[0m\u001b[0;34m:\u001b[0m\u001b[0;34m\u001b[0m\u001b[0m\n",
      "\u001b[0;31mValueError\u001b[0m: Queue shapes must have the same length as dtypes"
     ]
    }
   ],
   "source": [
    "batch_size = 2\n",
    "inp_size = 2\n",
    "targ_size = 1\n",
    "default_val = 0.0\n",
    "path='../train_data_{}.txt'\n",
    "num_epochs = 2\n",
    "data_len = 4\n",
    "\n",
    "examples_train = enqueue_patterns(\n",
    "    path.format('B'), \n",
    "    num_epochs, \n",
    "    batch_size, \n",
    "    data_len, \n",
    "    inp_size, \n",
    "    targ_size, \n",
    "    shuffle=True)\n",
    "\n",
    "examples_test = enqueue_patterns(\n",
    "    path.format('C'), \n",
    "    num_epochs, \n",
    "    batch_size, \n",
    "    data_len, \n",
    "    inp_size, \n",
    "    targ_size, \n",
    "    shuffle=True)\n",
    "\n",
    "\n",
    "with tf.Session() as sess:\n",
    "    sess.run([tf.global_variables_initializer(), tf.local_variables_initializer()])\n",
    "  # Start populating the filename queue.\n",
    "    coord = tf.train.Coordinator()\n",
    "    threads = tf.train.start_queue_runners(sess=sess, coord=coord)\n",
    "    for i in range(num_epochs):\n",
    "            print('EPOCH {} == '.format(i)*10)\n",
    "            if i==0 or i % 5 ==0:\n",
    "                test(sess, examples_test, data_len)\n",
    "            train(sess, examples_train, data_len)\n",
    "    coord.request_stop()\n",
    "    coord.join(threads)"
   ]
  },
  {
   "cell_type": "code",
   "execution_count": null,
   "metadata": {
    "scrolled": false
   },
   "outputs": [],
   "source": [
    "import tensorflow as tf\n",
    "import numpy as np\n",
    "import os\n",
    "\n",
    "batch_size = 4\n",
    "inp_size = 2\n",
    "targ_size = 1\n",
    "default_val = 0.0\n",
    "path='../train_data_B.txt'\n",
    "num_epochs = 4\n",
    "data_len = 4\n",
    "\n",
    "filename_queue = tf.train.string_input_producer(string_tensor = [path], shuffle = False)\n",
    "reader = tf.TextLineReader(skip_header_lines=True, name='csv_reader')\n",
    "_, record_strings = reader.read_up_to(queue=filename_queue, num_records=data_len)\n",
    "defaults = [[default_val] for x in range(inp_size + targ_size)]\n",
    "defaults.insert(0,[''])\n",
    "examples = tf.decode_csv(record_strings, record_defaults=defaults)\n",
    "p = tf.transpose(examples.pop(0))\n",
    "x = tf.transpose(tf.stack(examples[0:inp_size]))\n",
    "t = tf.transpose(tf.stack(examples[inp_size:inp_size + targ_size]))\n",
    "out = [p,x,t]\n",
    "out = tf.train.slice_input_producer(\n",
    "    tensor_list = out,\n",
    "    num_epochs=num_epochs,\n",
    "    shuffle=True,\n",
    "    seed=None,\n",
    "    capacity=data_len\n",
    ")\n",
    "out = tf.train.batch(\n",
    "    tensors = out,\n",
    "    batch_size = batch_size,\n",
    "    num_threads = 1,\n",
    "    capacity = batch_size,\n",
    ")\n",
    "\n",
    "with tf.Session() as sess:\n",
    "    sess.run([tf.global_variables_initializer(), tf.local_variables_initializer()])\n",
    "    # Start populating the filename queue.\n",
    "    coord = tf.train.Coordinator()\n",
    "    threads = tf.train.start_queue_runners(sess=sess, coord=coord)\n",
    "    for j in range(num_epochs):\n",
    "        for i in sess.run(out):\n",
    "            print(i)"
   ]
  },
  {
   "cell_type": "code",
   "execution_count": null,
   "metadata": {
    "collapsed": true
   },
   "outputs": [],
   "source": []
  }
 ],
 "metadata": {
  "kernelspec": {
   "display_name": "Python 3",
   "language": "python",
   "name": "python3"
  },
  "language_info": {
   "codemirror_mode": {
    "name": "ipython",
    "version": 3
   },
   "file_extension": ".py",
   "mimetype": "text/x-python",
   "name": "python",
   "nbconvert_exporter": "python",
   "pygments_lexer": "ipython3",
   "version": "3.6.1"
  }
 },
 "nbformat": 4,
 "nbformat_minor": 2
}
