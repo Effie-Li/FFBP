{
 "cells": [
  {
   "cell_type": "markdown",
   "metadata": {},
   "source": [
    "# XOR problem\n",
    "\n",
    "## 1. Preliminaries\n",
    "### 1.1. Imports\n",
    "We begin by importing several python libraries:"
   ]
  },
  {
   "cell_type": "code",
   "execution_count": null,
   "metadata": {
    "collapsed": true
   },
   "outputs": [],
   "source": [
    "# %%bash\n",
    "# rm -rf logdirs"
   ]
  },
  {
   "cell_type": "code",
   "execution_count": null,
   "metadata": {},
   "outputs": [],
   "source": [
    "import os\n",
    "import pickle\n",
    "import tensorflow as tf\n",
    "import numpy as np\n",
    "from collections import OrderedDict, namedtuple\n",
    "print('tensorflow version: {}'.format(tf.__version__))\n",
    "print('numpy version: {}'.format(np.__version__))\n",
    "print('current working directory: {}'.format(os.getcwd()))\n",
    "\n",
    "tf.logging.set_verbosity(tf.logging.ERROR)\n",
    "\n",
    "from FFBP.constructors import InputData, BasicLayer, FFBPModel, FFBPSaver"
   ]
  },
  {
   "cell_type": "markdown",
   "metadata": {},
   "source": [
    "## 2. Construction"
   ]
  },
  {
   "cell_type": "code",
   "execution_count": null,
   "metadata": {
    "collapsed": true,
    "scrolled": false
   },
   "outputs": [],
   "source": [
    "# TRAIN CONFIGS\n",
    "NUM_EPOCHS = 350\n",
    "BATCH_SIZE = 4\n",
    "INP_SIZE = 2\n",
    "TARG_SIZE = 1\n",
    "DATA_LEN = 4\n",
    "\n",
    "lr = 0.5\n",
    "m = 0.9\n",
    "\n",
    "XOR_GRAPH = tf.Graph()\n",
    "\n",
    "with XOR_GRAPH.as_default():\n",
    "    \n",
    "    with tf.name_scope('train_data'):\n",
    "        train_examples = InputData(\n",
    "            path_to_data_file = 'train_data_B.txt',\n",
    "            num_epochs = NUM_EPOCHS,\n",
    "            batch_size = BATCH_SIZE, \n",
    "            inp_size = INP_SIZE, \n",
    "            targ_size = TARG_SIZE,\n",
    "            data_len = DATA_LEN,\n",
    "            shuffle = True, \n",
    "            shuffle_seed = 1\n",
    "        )\n",
    "\n",
    "    with tf.name_scope('test_data'):\n",
    "        test_examples = InputData(\n",
    "            path_to_data_file = 'train_data_B.txt',\n",
    "            num_epochs = NUM_EPOCHS,\n",
    "            batch_size = DATA_LEN,\n",
    "            inp_size = INP_SIZE, \n",
    "            targ_size = TARG_SIZE,\n",
    "            data_len = DATA_LEN,\n",
    "            shuffle = False\n",
    "        )\n",
    "\n",
    "    # NETWORK CONSTRUCTION\n",
    "    model_name = 'xor_model'\n",
    "    with tf.name_scope(model_name):\n",
    "\n",
    "        model_inp  = tf.placeholder(dtype = tf.float32, shape=[None, INP_SIZE], name='model_inp')\n",
    "\n",
    "        hidden_layer = BasicLayer(\n",
    "            layer_name = 'hidden_layer', \n",
    "            layer_input = model_inp, \n",
    "            size = 2, \n",
    "            wrange = [-1,1], \n",
    "            nonlin = tf.nn.sigmoid, \n",
    "            bias = True, \n",
    "            seed = None\n",
    "        )\n",
    "\n",
    "        output_layer = BasicLayer(\n",
    "            layer_name = 'output_layer', \n",
    "            layer_input = hidden_layer.output, \n",
    "            size = 1, \n",
    "            wrange = [-1,1], \n",
    "            nonlin = tf.nn.sigmoid, \n",
    "            bias = True, \n",
    "            seed = None\n",
    "        )\n",
    "\n",
    "        target = tf.placeholder(dtype = tf.float32, shape=[None, TARG_SIZE], name='targets')\n",
    "\n",
    "        model = FFBPModel(\n",
    "            name = model_name,\n",
    "            layers = [hidden_layer, output_layer],\n",
    "            train_data = train_examples, \n",
    "            inp        = model_inp,\n",
    "            targ       = target,\n",
    "            loss       = tf.reduce_sum(tf.squared_difference(target, output_layer.output), name='loss_function'),\n",
    "            optimizer  = tf.train.MomentumOptimizer(lr, m),\n",
    "            test_data  = test_examples\n",
    "        )"
   ]
  },
  {
   "cell_type": "markdown",
   "metadata": {},
   "source": [
    "## 3. Running model"
   ]
  },
  {
   "cell_type": "code",
   "execution_count": null,
   "metadata": {
    "scrolled": false
   },
   "outputs": [],
   "source": [
    "TEST_EPOCHS = [0,1,3,5,30,60,100,180,300]\n",
    "SAVE_EPOCHS = [NUM_EPOCHS-1]\n",
    "ECRIT = 0.01\n",
    "# CHECKPOINT_DIR = 'logdirs/ffbp_logdir_000/'\n",
    "EXERCISE_PARAMS_DIR = 'exercise_params'\n",
    "\n",
    "with tf.Session(graph=XOR_GRAPH) as sess:\n",
    "\n",
    "    # create saver within current session\n",
    "    saver = FFBPSaver(session=sess)\n",
    "    \n",
    "    # restore or initialize XOR_GRAPH variables\n",
    "    # for random global variables (weights) initialization use: start_epoch = saver.init_model()\n",
    "    start_epoch = saver.restore_model(logdir_path=EXERCISE_PARAMS_DIR, make_new_logdir=True)\n",
    "    \n",
    "    # create coordinator and queue runners\n",
    "    coordinator = tf.train.Coordinator()\n",
    "    threads = tf.train.start_queue_runners(coord=coordinator)\n",
    "    \n",
    "    for i in range(start_epoch, start_epoch + NUM_EPOCHS):\n",
    "        # Test model occasionally\n",
    "        if any([i==test_epoch for test_epoch in TEST_EPOCHS]):\n",
    "            loss, snap = model.test_epoch(session=sess, verbose=True)\n",
    "            saver.snap2pickle(snap)\n",
    "            \n",
    "        # Run one training epoch\n",
    "        loss = model.train_epoch(session=sess, verbose=False)\n",
    "        \n",
    "        if any([i==save_epoch for save_epoch in SAVE_EPOCHS]):\n",
    "            saver.save_model(model)\n",
    "        \n",
    "        # Do final test, stop queues gracefully, and break out from training loop\n",
    "        if loss < ECRIT or i == start_epoch + (NUM_EPOCHS - 1): \n",
    "            print('Final test ({})'.format(\n",
    "                'loss < ecrit' if loss < ECRIT else 'num_epochs reached'))\n",
    "            \n",
    "            loss, snap = model.test_epoch(session=sess, verbose=True)\n",
    "            saver.snap2pickle(snap)\n",
    "            \n",
    "            coordinator.request_stop()\n",
    "            coordinator.join(threads)\n",
    "            \n",
    "            saver.save_model(model)\n",
    "            break\n",
    "        "
   ]
  }
 ],
 "metadata": {
  "kernelspec": {
   "display_name": "Python 3",
   "language": "python",
   "name": "python3"
  },
  "language_info": {
   "codemirror_mode": {
    "name": "ipython",
    "version": 3
   },
   "file_extension": ".py",
   "mimetype": "text/x-python",
   "name": "python",
   "nbconvert_exporter": "python",
   "pygments_lexer": "ipython3",
   "version": "3.6.1"
  }
 },
 "nbformat": 4,
 "nbformat_minor": 1
}
