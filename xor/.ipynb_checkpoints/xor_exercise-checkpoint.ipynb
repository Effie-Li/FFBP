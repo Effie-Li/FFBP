{
 "cells": [
  {
   "cell_type": "markdown",
   "metadata": {},
   "source": [
    "# XOR problem\n",
    "\n",
    "## 1. Import"
   ]
  },
  {
   "cell_type": "code",
   "execution_count": null,
   "metadata": {
    "collapsed": true,
    "scrolled": true
   },
   "outputs": [],
   "source": [
    "import tensorflow as tf\n",
    "import FFBP"
   ]
  },
  {
   "cell_type": "markdown",
   "metadata": {},
   "source": [
    "## 2. Build"
   ]
  },
  {
   "cell_type": "code",
   "execution_count": null,
   "metadata": {
    "collapsed": true,
    "scrolled": false
   },
   "outputs": [],
   "source": [
    "# TRAIN CONFIGS\n",
    "NUM_EPOCHS = 1000\n",
    "BATCH_SIZE = 4\n",
    "INP_SIZE = 2\n",
    "TARG_SIZE = 1\n",
    "DATA_LEN = 4\n",
    "WR = .25\n",
    "\n",
    "lr = 0.5\n",
    "m = 0.9\n",
    "\n",
    "FFBP_GRAPH = tf.Graph()\n",
    "\n",
    "with FFBP_GRAPH.as_default():\n",
    "    \n",
    "    with tf.name_scope('train_data'):\n",
    "        train_data = FFBP.InputData(\n",
    "            path_to_data_file = 'xor_data.txt',\n",
    "            num_epochs = NUM_EPOCHS,\n",
    "            batch_size = BATCH_SIZE, \n",
    "            inp_size = INP_SIZE, \n",
    "            targ_size = TARG_SIZE,\n",
    "            data_len = DATA_LEN,\n",
    "            shuffle_seed = 1\n",
    "        )\n",
    "\n",
    "    with tf.name_scope('test_data'):\n",
    "        test_data = FFBP.InputData(\n",
    "            path_to_data_file = 'xor_data.txt',\n",
    "            num_epochs = NUM_EPOCHS,\n",
    "            batch_size = DATA_LEN,\n",
    "            inp_size = INP_SIZE, \n",
    "            targ_size = TARG_SIZE,\n",
    "            data_len = DATA_LEN,\n",
    "            shuffle_seed = None,\n",
    "        )\n",
    "\n",
    "    # NETWORK CONSTRUCTION\n",
    "    model_name = 'xor_model'\n",
    "    with tf.name_scope(model_name):\n",
    "\n",
    "        input_  = tf.placeholder(dtype = tf.float32, shape=[None, INP_SIZE], name='model_inp')\n",
    "\n",
    "        hidden_layer = FFBP.BasicLayer(\n",
    "            layer_name = 'hidden_layer', \n",
    "            layer_input = input_, \n",
    "            size = 2, \n",
    "            wrange = [-WR, WR], \n",
    "            nonlin = tf.nn.sigmoid, \n",
    "            bias = True, \n",
    "            seed = None\n",
    "        )\n",
    "\n",
    "        output_layer = FFBP.BasicLayer(\n",
    "            layer_name = 'output_layer', \n",
    "            layer_input = hidden_layer.output, \n",
    "            size = 1, \n",
    "            wrange = [-WR, WR], \n",
    "            nonlin = tf.nn.sigmoid, \n",
    "            bias = True, \n",
    "            seed = None\n",
    "        )\n",
    "\n",
    "        target = tf.placeholder(dtype = tf.float32, shape=[None, TARG_SIZE], name='targets')\n",
    "\n",
    "        MODEL = FFBP.Model(\n",
    "            name = model_name,\n",
    "            layers = [hidden_layer, output_layer],\n",
    "            train_data = train_data, \n",
    "            inp        = input_,\n",
    "            targ       = target,\n",
    "            loss       = tf.reduce_sum(tf.squared_difference(target, output_layer.output), name='loss_function'),\n",
    "            optimizer  = tf.train.MomentumOptimizer(lr, m),\n",
    "            test_data  = test_data\n",
    "        )"
   ]
  },
  {
   "cell_type": "markdown",
   "metadata": {},
   "source": [
    "## 3. Run"
   ]
  },
  {
   "cell_type": "code",
   "execution_count": null,
   "metadata": {
    "scrolled": false
   },
   "outputs": [],
   "source": [
    "# Prevent unwanted logging messages by tensorflow (log ERROR messages only)\n",
    "tf.logging.set_verbosity(tf.logging.ERROR) \n",
    "\n",
    "# Set up run parameters\n",
    "NUM_RUNS = 3\n",
    "TEST_EPOCHS = [0,1,3,5,30,60,120,180,270,300]\n",
    "SAVE_EPOCHS = [NUM_EPOCHS-1]\n",
    "ECRIT = 0.01\n",
    "RESTORE_DIR = 'exercise_params' # provide path to logdir with 'checkpoint_files' directory to restore a saved model\n",
    "\n",
    "# Create ModelSaver to manage test data saving and model checkpointing:\n",
    "# if restore_path is None (or not provided), graph variables will be initialized from scratch\n",
    "saver = FFBP.ModelSaver(restore_from=None, make_new_logdir=True)\n",
    "\n",
    "for run_ind in range(NUM_RUNS):\n",
    "    print('>>> RUN {}'.format(run_ind))\n",
    "    \n",
    "    with tf.Session(graph=FFBP_GRAPH) as sess:\n",
    "\n",
    "        # restore or initialize FFBP_GRAPH variables:\n",
    "        start_epoch = saver.init_model(session=sess)\n",
    "\n",
    "        # create coordinator and start queue runners\n",
    "        coordinator = tf.train.Coordinator()\n",
    "        threads = tf.train.start_queue_runners(coord=coordinator)\n",
    "\n",
    "        for i in range(start_epoch, start_epoch + NUM_EPOCHS):\n",
    "            # Test model occasionally\n",
    "            if any([i==test_epoch for test_epoch in TEST_EPOCHS]):\n",
    "                testloss, snap = MODEL.test_epoch(session=sess, verbose=True)\n",
    "                saver.save_test(snap, run_ind)\n",
    "\n",
    "            # Run one training epoch\n",
    "            loss = MODEL.train_epoch(session=sess, verbose=False)\n",
    "            saver.save_loss(loss, run_ind)\n",
    "\n",
    "            # Save model occasionally\n",
    "            if any([i==save_epoch for save_epoch in SAVE_EPOCHS]):\n",
    "                saver.save_model(session=sess, model=MODEL)\n",
    "\n",
    "            # Do final test, stop queues, and break out from training loop\n",
    "            if loss < ECRIT or i == start_epoch + (NUM_EPOCHS - 1): \n",
    "                print('Final test ({})'.format(\n",
    "                    'loss < ecrit' if loss < ECRIT else 'num_epochs reached'))\n",
    "\n",
    "                testloss, snap = MODEL.test_epoch(session=sess, verbose=True)\n",
    "                saver.save_test(snap, run_ind)\n",
    "\n",
    "                coordinator.request_stop()\n",
    "                coordinator.join(threads)\n",
    "\n",
    "                saver.save_model(session=sess, model=MODEL)\n",
    "                break"
   ]
  }
 ],
 "metadata": {
  "kernelspec": {
   "display_name": "Python 3",
   "language": "python",
   "name": "python3"
  },
  "language_info": {
   "codemirror_mode": {
    "name": "ipython",
    "version": 3
   },
   "file_extension": ".py",
   "mimetype": "text/x-python",
   "name": "python",
   "nbconvert_exporter": "python",
   "pygments_lexer": "ipython3",
   "version": "3.6.1"
  }
 },
 "nbformat": 4,
 "nbformat_minor": 1
}
